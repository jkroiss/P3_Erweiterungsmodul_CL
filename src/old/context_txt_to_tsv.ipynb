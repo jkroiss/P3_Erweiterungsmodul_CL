{
  "nbformat": 4,
  "nbformat_minor": 0,
  "metadata": {
    "colab": {
      "provenance": []
    },
    "kernelspec": {
      "name": "python3",
      "display_name": "Python 3"
    },
    "language_info": {
      "name": "python"
    }
  },
  "cells": [
    {
      "cell_type": "code",
      "source": [
        "import pandas as pd"
      ],
      "metadata": {
        "id": "AuDGRBXwDAlF"
      },
      "execution_count": 59,
      "outputs": []
    },
    {
      "cell_type": "code",
      "execution_count": 22,
      "metadata": {
        "colab": {
          "base_uri": "https://localhost:8080/"
        },
        "id": "YSy1PoGWdLbh",
        "outputId": "01193d25-9280-42ff-a75f-4ac782f67807"
      },
      "outputs": [
        {
          "output_type": "stream",
          "name": "stdout",
          "text": [
            "Mounted at /content/drive\n"
          ]
        }
      ],
      "source": [
        "from google.colab import drive\n",
        "drive.mount('/content/drive')\n",
        "\n",
        "folder_path='/content/drive/My Drive/ErwModul_24/results/'"
      ]
    },
    {
      "cell_type": "code",
      "source": [
        "test_results = []\n",
        "with open(folder_path+'test.txt', 'r') as readFile:\n",
        "    test_row = {}\n",
        "    ref_cap = ''\n",
        "    gen_cap = ''\n",
        "    ref = True\n",
        "    for line in readFile:\n",
        "      if line == '|||\\n' or line == '|||':\n",
        "        test_row['lang'] = 'en'\n",
        "        test_row['ref_caption'] = ref_cap.rstrip()\n",
        "        test_row['gen_caption'] = gen_cap.rstrip()\n",
        "        test_results.append(test_row)\n",
        "        test_row = {}\n",
        "        ref_cap = ''\n",
        "        gen_cap = ''\n",
        "        ref = True\n",
        "      elif line == '|\\n':\n",
        "        ref = False\n",
        "      else:\n",
        "        if ref:\n",
        "          ref_cap += line.lstrip()\n",
        "        else:\n",
        "          gen_cap += line.lstrip()\n"
      ],
      "metadata": {
        "id": "NyMfGBsEd1Ay"
      },
      "execution_count": 51,
      "outputs": []
    },
    {
      "cell_type": "code",
      "source": [
        "test_results"
      ],
      "metadata": {
        "colab": {
          "base_uri": "https://localhost:8080/"
        },
        "id": "d-ydej4_94_D",
        "outputId": "bd4bf49c-7b63-434f-cae1-aed974c58ebc"
      },
      "execution_count": 52,
      "outputs": [
        {
          "output_type": "execute_result",
          "data": {
            "text/plain": [
              "[{'lang': 'en', 'ref_caption': 'Hallo Welt', 'gen_caption': 'Welt Hallo'},\n",
              " {'lang': 'en', 'ref_caption': 'Hallo\\nWelt', 'gen_caption': 'Welt\\nHallo'}]"
            ]
          },
          "metadata": {},
          "execution_count": 52
        }
      ]
    },
    {
      "cell_type": "code",
      "source": [
        "for test_result in test_results:\n",
        "  print(test_result['ref_caption'])\n",
        "  print(test_result['gen_caption'])"
      ],
      "metadata": {
        "colab": {
          "base_uri": "https://localhost:8080/"
        },
        "id": "4OP_tv_uvx45",
        "outputId": "0951f5f4-a80d-46d1-891e-f461a65050c0"
      },
      "execution_count": 54,
      "outputs": [
        {
          "output_type": "stream",
          "name": "stdout",
          "text": [
            "Hallo Welt\n",
            "Welt Hallo\n",
            "Hallo\n",
            "Welt\n",
            "Welt\n",
            "Hallo\n"
          ]
        }
      ]
    },
    {
      "cell_type": "code",
      "source": [
        "langs = ['iw','sv','de','ja','nl','vi','pl','zh-TW','en','uk','zh','es','ca','it','ru','pt','cs','fr','ar','hu']"
      ],
      "metadata": {
        "id": "9bn2rYUxZ97W"
      },
      "execution_count": 55,
      "outputs": []
    },
    {
      "cell_type": "code",
      "source": [
        "all_transl_context = []\n",
        "for lang in langs:\n",
        "  path = folder_path+'context/{}_context_transl.txt'.format(lang)\n",
        "  with open(path, 'r') as readFile:\n",
        "    transl_context_row = {}\n",
        "    ref_cap = ''\n",
        "    gen_cap = ''\n",
        "    ref = True\n",
        "    for line in readFile:\n",
        "      if line == '|||\\n' or line == '|||':\n",
        "        transl_context_row['lang'] = lang\n",
        "        transl_context_row['ref_caption'] = ref_cap.rstrip()\n",
        "        transl_context_row['gen_caption'] = gen_cap.rstrip()\n",
        "        all_transl_context.append(transl_context_row)\n",
        "        transl_context_row = {}\n",
        "        ref_cap = ''\n",
        "        gen_cap = ''\n",
        "        ref = True\n",
        "      elif line == '|\\n':\n",
        "        ref = False\n",
        "      else:\n",
        "        if ref:\n",
        "          ref_cap += line.lstrip()\n",
        "        else:\n",
        "          gen_cap += line.lstrip()\n",
        "\n"
      ],
      "metadata": {
        "id": "HJUVH_YydCIl"
      },
      "execution_count": 56,
      "outputs": []
    },
    {
      "cell_type": "code",
      "source": [
        "all_context = []\n",
        "for lang in langs:\n",
        "  path = folder_path+'context/{}_context.txt'.format(lang)\n",
        "  with open(path, 'r') as readFile:\n",
        "    context_row = {}\n",
        "    ref_cap = ''\n",
        "    gen_cap = ''\n",
        "    ref = True\n",
        "    for line in readFile:\n",
        "      if line == '|||\\n' or line == '|||':\n",
        "        context_row['lang'] = lang\n",
        "        context_row['ref_caption'] = ref_cap.rstrip()\n",
        "        context_row['gen_caption'] = gen_cap.rstrip()\n",
        "        all_context.append(context_row)\n",
        "        context_row = {}\n",
        "        ref_cap = ''\n",
        "        gen_cap = ''\n",
        "        ref = True\n",
        "      elif line == '|\\n':\n",
        "        ref = False\n",
        "      else:\n",
        "        if ref:\n",
        "          ref_cap += line.lstrip()\n",
        "        else:\n",
        "          gen_cap += line.lstrip()"
      ],
      "metadata": {
        "id": "Db2yoEmPk4M_"
      },
      "execution_count": 57,
      "outputs": []
    },
    {
      "cell_type": "code",
      "source": [
        "df_transl = pd.DataFrame(all_transl_context)\n",
        "df_context = pd.DataFrame(all_context)\n",
        "df_transl.to_csv(folder_path+'mBlip_transl_context_prompt.tsv', sep='\\t')\n",
        "df_context.to_csv(folder_path+'mBlip_context_prompt.tsv', sep='\\t')"
      ],
      "metadata": {
        "id": "OSCHDtdApGag"
      },
      "execution_count": 60,
      "outputs": []
    }
  ]
}
