{
 "cells": [
  {
   "cell_type": "code",
   "execution_count": 5,
   "id": "dd04d2da-4f20-4f9a-828b-b6fdeb0ea899",
   "metadata": {
    "collapsed": true,
    "jupyter": {
     "outputs_hidden": true
    },
    "scrolled": true
   },
   "outputs": [
    {
     "name": "stdout",
     "output_type": "stream",
     "text": [
      "\u001b[33mDEPRECATION: Loading egg at /Users/anitaguseinova/Library/Python/3.11/lib/python/site-packages/decord-0.6.0-py3.11-macosx-10.9-universal2.egg is deprecated. pip 24.3 will enforce this behaviour change. A possible replacement is to use pip for package installation.. Discussion can be found at https://github.com/pypa/pip/issues/12330\u001b[0m\u001b[33m\n",
      "\u001b[0mRequirement already satisfied: spacy in /Library/Frameworks/Python.framework/Versions/3.11/lib/python3.11/site-packages (3.5.2)\n",
      "Requirement already satisfied: spacy-legacy<3.1.0,>=3.0.11 in /Library/Frameworks/Python.framework/Versions/3.11/lib/python3.11/site-packages (from spacy) (3.0.12)\n",
      "Requirement already satisfied: spacy-loggers<2.0.0,>=1.0.0 in /Library/Frameworks/Python.framework/Versions/3.11/lib/python3.11/site-packages (from spacy) (1.0.4)\n",
      "Requirement already satisfied: murmurhash<1.1.0,>=0.28.0 in /Library/Frameworks/Python.framework/Versions/3.11/lib/python3.11/site-packages (from spacy) (1.0.9)\n",
      "Requirement already satisfied: cymem<2.1.0,>=2.0.2 in /Library/Frameworks/Python.framework/Versions/3.11/lib/python3.11/site-packages (from spacy) (2.0.7)\n",
      "Requirement already satisfied: preshed<3.1.0,>=3.0.2 in /Library/Frameworks/Python.framework/Versions/3.11/lib/python3.11/site-packages (from spacy) (3.0.8)\n",
      "Requirement already satisfied: thinc<8.2.0,>=8.1.8 in /Library/Frameworks/Python.framework/Versions/3.11/lib/python3.11/site-packages (from spacy) (8.1.9)\n",
      "Requirement already satisfied: wasabi<1.2.0,>=0.9.1 in /Library/Frameworks/Python.framework/Versions/3.11/lib/python3.11/site-packages (from spacy) (1.1.1)\n",
      "Requirement already satisfied: srsly<3.0.0,>=2.4.3 in /Library/Frameworks/Python.framework/Versions/3.11/lib/python3.11/site-packages (from spacy) (2.4.6)\n",
      "Requirement already satisfied: catalogue<2.1.0,>=2.0.6 in /Library/Frameworks/Python.framework/Versions/3.11/lib/python3.11/site-packages (from spacy) (2.0.8)\n",
      "Requirement already satisfied: typer<0.8.0,>=0.3.0 in /Library/Frameworks/Python.framework/Versions/3.11/lib/python3.11/site-packages (from spacy) (0.7.0)\n",
      "Requirement already satisfied: pathy>=0.10.0 in /Library/Frameworks/Python.framework/Versions/3.11/lib/python3.11/site-packages (from spacy) (0.10.1)\n",
      "Requirement already satisfied: smart-open<7.0.0,>=5.2.1 in /Library/Frameworks/Python.framework/Versions/3.11/lib/python3.11/site-packages (from spacy) (6.3.0)\n",
      "Requirement already satisfied: tqdm<5.0.0,>=4.38.0 in /Library/Frameworks/Python.framework/Versions/3.11/lib/python3.11/site-packages (from spacy) (4.65.0)\n",
      "Requirement already satisfied: numpy>=1.15.0 in /Library/Frameworks/Python.framework/Versions/3.11/lib/python3.11/site-packages (from spacy) (1.24.3)\n",
      "Requirement already satisfied: requests<3.0.0,>=2.13.0 in /Library/Frameworks/Python.framework/Versions/3.11/lib/python3.11/site-packages (from spacy) (2.32.3)\n",
      "Requirement already satisfied: pydantic!=1.8,!=1.8.1,<1.11.0,>=1.7.4 in /Library/Frameworks/Python.framework/Versions/3.11/lib/python3.11/site-packages (from spacy) (1.10.7)\n",
      "Requirement already satisfied: jinja2 in /Library/Frameworks/Python.framework/Versions/3.11/lib/python3.11/site-packages (from spacy) (3.1.2)\n",
      "Requirement already satisfied: setuptools in /Library/Frameworks/Python.framework/Versions/3.11/lib/python3.11/site-packages (from spacy) (70.0.0)\n",
      "Requirement already satisfied: packaging>=20.0 in /Library/Frameworks/Python.framework/Versions/3.11/lib/python3.11/site-packages (from spacy) (23.1)\n",
      "Requirement already satisfied: langcodes<4.0.0,>=3.2.0 in /Library/Frameworks/Python.framework/Versions/3.11/lib/python3.11/site-packages (from spacy) (3.3.0)\n",
      "Requirement already satisfied: typing-extensions>=4.2.0 in /Library/Frameworks/Python.framework/Versions/3.11/lib/python3.11/site-packages (from pydantic!=1.8,!=1.8.1,<1.11.0,>=1.7.4->spacy) (4.12.2)\n",
      "Requirement already satisfied: charset-normalizer<4,>=2 in /Library/Frameworks/Python.framework/Versions/3.11/lib/python3.11/site-packages (from requests<3.0.0,>=2.13.0->spacy) (3.1.0)\n",
      "Requirement already satisfied: idna<4,>=2.5 in /Library/Frameworks/Python.framework/Versions/3.11/lib/python3.11/site-packages (from requests<3.0.0,>=2.13.0->spacy) (3.4)\n",
      "Requirement already satisfied: urllib3<3,>=1.21.1 in /Library/Frameworks/Python.framework/Versions/3.11/lib/python3.11/site-packages (from requests<3.0.0,>=2.13.0->spacy) (1.26.15)\n",
      "Requirement already satisfied: certifi>=2017.4.17 in /Library/Frameworks/Python.framework/Versions/3.11/lib/python3.11/site-packages (from requests<3.0.0,>=2.13.0->spacy) (2024.6.2)\n",
      "Requirement already satisfied: blis<0.8.0,>=0.7.8 in /Library/Frameworks/Python.framework/Versions/3.11/lib/python3.11/site-packages (from thinc<8.2.0,>=8.1.8->spacy) (0.7.9)\n",
      "Requirement already satisfied: confection<1.0.0,>=0.0.1 in /Library/Frameworks/Python.framework/Versions/3.11/lib/python3.11/site-packages (from thinc<8.2.0,>=8.1.8->spacy) (0.0.4)\n",
      "Requirement already satisfied: click<9.0.0,>=7.1.1 in /Library/Frameworks/Python.framework/Versions/3.11/lib/python3.11/site-packages (from typer<0.8.0,>=0.3.0->spacy) (8.1.3)\n",
      "Requirement already satisfied: MarkupSafe>=2.0 in /Library/Frameworks/Python.framework/Versions/3.11/lib/python3.11/site-packages (from jinja2->spacy) (2.1.2)\n",
      "\n",
      "\u001b[1m[\u001b[0m\u001b[34;49mnotice\u001b[0m\u001b[1;39;49m]\u001b[0m\u001b[39;49m A new release of pip is available: \u001b[0m\u001b[31;49m24.0\u001b[0m\u001b[39;49m -> \u001b[0m\u001b[32;49m24.1.2\u001b[0m\n",
      "\u001b[1m[\u001b[0m\u001b[34;49mnotice\u001b[0m\u001b[1;39;49m]\u001b[0m\u001b[39;49m To update, run: \u001b[0m\u001b[32;49mpip install --upgrade pip\u001b[0m\n"
     ]
    }
   ],
   "source": [
    "!pip install spacy"
   ]
  },
  {
   "cell_type": "code",
   "execution_count": 21,
   "id": "5031f3f4-6d15-45ca-835b-9a58fc5b0d87",
   "metadata": {
    "scrolled": true
   },
   "outputs": [
    {
     "name": "stdout",
     "output_type": "stream",
     "text": [
      "/Library/Frameworks/Python.framework/Versions/3.11/lib/python3.11/site-packages/thinc/compat.py:36: UserWarning: 'has_mps' is deprecated, please use 'torch.backends.mps.is_built()'\n",
      "  hasattr(torch, \"has_mps\")\n",
      "/Library/Frameworks/Python.framework/Versions/3.11/lib/python3.11/site-packages/thinc/compat.py:37: UserWarning: 'has_mps' is deprecated, please use 'torch.backends.mps.is_built()'\n",
      "  and torch.has_mps  # type: ignore[attr-defined]\n",
      "\u001b[33mDEPRECATION: Loading egg at /Users/anitaguseinova/Library/Python/3.11/lib/python/site-packages/decord-0.6.0-py3.11-macosx-10.9-universal2.egg is deprecated. pip 24.3 will enforce this behaviour change. A possible replacement is to use pip for package installation.. Discussion can be found at https://github.com/pypa/pip/issues/12330\u001b[0m\u001b[33m\n",
      "\u001b[0mCollecting xx-ent-wiki-sm==3.5.0\n",
      "^C\n",
      "\u001b[31mERROR: Operation cancelled by user\u001b[0m\u001b[31m\n",
      "\u001b[0m\n",
      "\u001b[1m[\u001b[0m\u001b[34;49mnotice\u001b[0m\u001b[1;39;49m]\u001b[0m\u001b[39;49m A new release of pip is available: \u001b[0m\u001b[31;49m24.0\u001b[0m\u001b[39;49m -> \u001b[0m\u001b[32;49m24.1.2\u001b[0m\n",
      "\u001b[1m[\u001b[0m\u001b[34;49mnotice\u001b[0m\u001b[1;39;49m]\u001b[0m\u001b[39;49m To update, run: \u001b[0m\u001b[32;49mpip install --upgrade pip\u001b[0m\n",
      "\n",
      "\u001b[31mAborted.\u001b[0m\n"
     ]
    }
   ],
   "source": [
    "!python3.11 -m spacy download xx_ent_wiki_sm"
   ]
  },
  {
   "cell_type": "code",
   "execution_count": 100,
   "id": "a56d2b9e-30b7-4d61-907d-d3e0dbd3144d",
   "metadata": {},
   "outputs": [
    {
     "name": "stdout",
     "output_type": "stream",
     "text": [
      "/Library/Frameworks/Python.framework/Versions/3.11/lib/python3.11/site-packages/thinc/compat.py:36: UserWarning: 'has_mps' is deprecated, please use 'torch.backends.mps.is_built()'\n",
      "  hasattr(torch, \"has_mps\")\n",
      "/Library/Frameworks/Python.framework/Versions/3.11/lib/python3.11/site-packages/thinc/compat.py:37: UserWarning: 'has_mps' is deprecated, please use 'torch.backends.mps.is_built()'\n",
      "  and torch.has_mps  # type: ignore[attr-defined]\n",
      "\u001b[33mDEPRECATION: Loading egg at /Users/anitaguseinova/Library/Python/3.11/lib/python/site-packages/decord-0.6.0-py3.11-macosx-10.9-universal2.egg is deprecated. pip 24.3 will enforce this behaviour change. A possible replacement is to use pip for package installation.. Discussion can be found at https://github.com/pypa/pip/issues/12330\u001b[0m\u001b[33m\n",
      "\u001b[0mCollecting ja-core-news-lg==3.5.0\n",
      "  Downloading https://github.com/explosion/spacy-models/releases/download/ja_core_news_lg-3.5.0/ja_core_news_lg-3.5.0-py3-none-any.whl (555.3 MB)\n",
      "\u001b[2K     \u001b[90m━━━━━━━━━━━━━━━━━━━━━━━━━━━━━━━━━━━━━━━\u001b[0m \u001b[32m555.3/555.3 MB\u001b[0m \u001b[31m3.4 MB/s\u001b[0m eta \u001b[36m0:00:00\u001b[0m00:01\u001b[0m00:01\u001b[0m\n",
      "\u001b[?25hRequirement already satisfied: spacy<3.6.0,>=3.5.0 in /Library/Frameworks/Python.framework/Versions/3.11/lib/python3.11/site-packages (from ja-core-news-lg==3.5.0) (3.5.2)\n",
      "Requirement already satisfied: sudachipy!=0.6.1,>=0.5.2 in /Library/Frameworks/Python.framework/Versions/3.11/lib/python3.11/site-packages (from ja-core-news-lg==3.5.0) (0.6.8)\n",
      "Requirement already satisfied: sudachidict-core>=20211220 in /Library/Frameworks/Python.framework/Versions/3.11/lib/python3.11/site-packages (from ja-core-news-lg==3.5.0) (20240409)\n",
      "Requirement already satisfied: spacy-legacy<3.1.0,>=3.0.11 in /Library/Frameworks/Python.framework/Versions/3.11/lib/python3.11/site-packages (from spacy<3.6.0,>=3.5.0->ja-core-news-lg==3.5.0) (3.0.12)\n",
      "Requirement already satisfied: spacy-loggers<2.0.0,>=1.0.0 in /Library/Frameworks/Python.framework/Versions/3.11/lib/python3.11/site-packages (from spacy<3.6.0,>=3.5.0->ja-core-news-lg==3.5.0) (1.0.4)\n",
      "Requirement already satisfied: murmurhash<1.1.0,>=0.28.0 in /Library/Frameworks/Python.framework/Versions/3.11/lib/python3.11/site-packages (from spacy<3.6.0,>=3.5.0->ja-core-news-lg==3.5.0) (1.0.9)\n",
      "Requirement already satisfied: cymem<2.1.0,>=2.0.2 in /Library/Frameworks/Python.framework/Versions/3.11/lib/python3.11/site-packages (from spacy<3.6.0,>=3.5.0->ja-core-news-lg==3.5.0) (2.0.7)\n",
      "Requirement already satisfied: preshed<3.1.0,>=3.0.2 in /Library/Frameworks/Python.framework/Versions/3.11/lib/python3.11/site-packages (from spacy<3.6.0,>=3.5.0->ja-core-news-lg==3.5.0) (3.0.8)\n",
      "Requirement already satisfied: thinc<8.2.0,>=8.1.8 in /Library/Frameworks/Python.framework/Versions/3.11/lib/python3.11/site-packages (from spacy<3.6.0,>=3.5.0->ja-core-news-lg==3.5.0) (8.1.9)\n",
      "Requirement already satisfied: wasabi<1.2.0,>=0.9.1 in /Library/Frameworks/Python.framework/Versions/3.11/lib/python3.11/site-packages (from spacy<3.6.0,>=3.5.0->ja-core-news-lg==3.5.0) (1.1.1)\n",
      "Requirement already satisfied: srsly<3.0.0,>=2.4.3 in /Library/Frameworks/Python.framework/Versions/3.11/lib/python3.11/site-packages (from spacy<3.6.0,>=3.5.0->ja-core-news-lg==3.5.0) (2.4.6)\n",
      "Requirement already satisfied: catalogue<2.1.0,>=2.0.6 in /Library/Frameworks/Python.framework/Versions/3.11/lib/python3.11/site-packages (from spacy<3.6.0,>=3.5.0->ja-core-news-lg==3.5.0) (2.0.8)\n",
      "Requirement already satisfied: typer<0.8.0,>=0.3.0 in /Library/Frameworks/Python.framework/Versions/3.11/lib/python3.11/site-packages (from spacy<3.6.0,>=3.5.0->ja-core-news-lg==3.5.0) (0.7.0)\n",
      "Requirement already satisfied: pathy>=0.10.0 in /Library/Frameworks/Python.framework/Versions/3.11/lib/python3.11/site-packages (from spacy<3.6.0,>=3.5.0->ja-core-news-lg==3.5.0) (0.10.1)\n",
      "Requirement already satisfied: smart-open<7.0.0,>=5.2.1 in /Library/Frameworks/Python.framework/Versions/3.11/lib/python3.11/site-packages (from spacy<3.6.0,>=3.5.0->ja-core-news-lg==3.5.0) (6.3.0)\n",
      "Requirement already satisfied: tqdm<5.0.0,>=4.38.0 in /Library/Frameworks/Python.framework/Versions/3.11/lib/python3.11/site-packages (from spacy<3.6.0,>=3.5.0->ja-core-news-lg==3.5.0) (4.65.0)\n",
      "Requirement already satisfied: numpy>=1.15.0 in /Library/Frameworks/Python.framework/Versions/3.11/lib/python3.11/site-packages (from spacy<3.6.0,>=3.5.0->ja-core-news-lg==3.5.0) (1.24.3)\n",
      "Requirement already satisfied: requests<3.0.0,>=2.13.0 in /Library/Frameworks/Python.framework/Versions/3.11/lib/python3.11/site-packages (from spacy<3.6.0,>=3.5.0->ja-core-news-lg==3.5.0) (2.32.3)\n",
      "Requirement already satisfied: pydantic!=1.8,!=1.8.1,<1.11.0,>=1.7.4 in /Library/Frameworks/Python.framework/Versions/3.11/lib/python3.11/site-packages (from spacy<3.6.0,>=3.5.0->ja-core-news-lg==3.5.0) (1.10.7)\n",
      "Requirement already satisfied: jinja2 in /Library/Frameworks/Python.framework/Versions/3.11/lib/python3.11/site-packages (from spacy<3.6.0,>=3.5.0->ja-core-news-lg==3.5.0) (3.1.2)\n",
      "Requirement already satisfied: setuptools in /Library/Frameworks/Python.framework/Versions/3.11/lib/python3.11/site-packages (from spacy<3.6.0,>=3.5.0->ja-core-news-lg==3.5.0) (70.0.0)\n",
      "Requirement already satisfied: packaging>=20.0 in /Library/Frameworks/Python.framework/Versions/3.11/lib/python3.11/site-packages (from spacy<3.6.0,>=3.5.0->ja-core-news-lg==3.5.0) (23.1)\n",
      "Requirement already satisfied: langcodes<4.0.0,>=3.2.0 in /Library/Frameworks/Python.framework/Versions/3.11/lib/python3.11/site-packages (from spacy<3.6.0,>=3.5.0->ja-core-news-lg==3.5.0) (3.3.0)\n",
      "Requirement already satisfied: typing-extensions>=4.2.0 in /Library/Frameworks/Python.framework/Versions/3.11/lib/python3.11/site-packages (from pydantic!=1.8,!=1.8.1,<1.11.0,>=1.7.4->spacy<3.6.0,>=3.5.0->ja-core-news-lg==3.5.0) (4.12.2)\n",
      "Requirement already satisfied: charset-normalizer<4,>=2 in /Library/Frameworks/Python.framework/Versions/3.11/lib/python3.11/site-packages (from requests<3.0.0,>=2.13.0->spacy<3.6.0,>=3.5.0->ja-core-news-lg==3.5.0) (3.1.0)\n",
      "Requirement already satisfied: idna<4,>=2.5 in /Library/Frameworks/Python.framework/Versions/3.11/lib/python3.11/site-packages (from requests<3.0.0,>=2.13.0->spacy<3.6.0,>=3.5.0->ja-core-news-lg==3.5.0) (3.4)\n",
      "Requirement already satisfied: urllib3<3,>=1.21.1 in /Library/Frameworks/Python.framework/Versions/3.11/lib/python3.11/site-packages (from requests<3.0.0,>=2.13.0->spacy<3.6.0,>=3.5.0->ja-core-news-lg==3.5.0) (1.26.15)\n",
      "Requirement already satisfied: certifi>=2017.4.17 in /Library/Frameworks/Python.framework/Versions/3.11/lib/python3.11/site-packages (from requests<3.0.0,>=2.13.0->spacy<3.6.0,>=3.5.0->ja-core-news-lg==3.5.0) (2024.6.2)\n",
      "Requirement already satisfied: blis<0.8.0,>=0.7.8 in /Library/Frameworks/Python.framework/Versions/3.11/lib/python3.11/site-packages (from thinc<8.2.0,>=8.1.8->spacy<3.6.0,>=3.5.0->ja-core-news-lg==3.5.0) (0.7.9)\n",
      "Requirement already satisfied: confection<1.0.0,>=0.0.1 in /Library/Frameworks/Python.framework/Versions/3.11/lib/python3.11/site-packages (from thinc<8.2.0,>=8.1.8->spacy<3.6.0,>=3.5.0->ja-core-news-lg==3.5.0) (0.0.4)\n",
      "Requirement already satisfied: click<9.0.0,>=7.1.1 in /Library/Frameworks/Python.framework/Versions/3.11/lib/python3.11/site-packages (from typer<0.8.0,>=0.3.0->spacy<3.6.0,>=3.5.0->ja-core-news-lg==3.5.0) (8.1.3)\n",
      "Requirement already satisfied: MarkupSafe>=2.0 in /Library/Frameworks/Python.framework/Versions/3.11/lib/python3.11/site-packages (from jinja2->spacy<3.6.0,>=3.5.0->ja-core-news-lg==3.5.0) (2.1.2)\n",
      "Installing collected packages: ja-core-news-lg\n",
      "Successfully installed ja-core-news-lg-3.5.0\n",
      "\n",
      "\u001b[1m[\u001b[0m\u001b[34;49mnotice\u001b[0m\u001b[1;39;49m]\u001b[0m\u001b[39;49m A new release of pip is available: \u001b[0m\u001b[31;49m24.0\u001b[0m\u001b[39;49m -> \u001b[0m\u001b[32;49m24.1.2\u001b[0m\n",
      "\u001b[1m[\u001b[0m\u001b[34;49mnotice\u001b[0m\u001b[1;39;49m]\u001b[0m\u001b[39;49m To update, run: \u001b[0m\u001b[32;49mpip install --upgrade pip\u001b[0m\n",
      "\u001b[38;5;2m✔ Download and installation successful\u001b[0m\n",
      "You can now load the package via spacy.load('ja_core_news_lg')\n"
     ]
    }
   ],
   "source": [
    "!python3.11 -m spacy download ja_core_news_lg"
   ]
  },
  {
   "cell_type": "code",
   "execution_count": null,
   "id": "df0f68af-92d7-4765-8517-544a63b099b5",
   "metadata": {},
   "outputs": [
    {
     "name": "stdout",
     "output_type": "stream",
     "text": [
      "/Library/Frameworks/Python.framework/Versions/3.11/lib/python3.11/site-packages/thinc/compat.py:36: UserWarning: 'has_mps' is deprecated, please use 'torch.backends.mps.is_built()'\n",
      "  hasattr(torch, \"has_mps\")\n",
      "/Library/Frameworks/Python.framework/Versions/3.11/lib/python3.11/site-packages/thinc/compat.py:37: UserWarning: 'has_mps' is deprecated, please use 'torch.backends.mps.is_built()'\n",
      "  and torch.has_mps  # type: ignore[attr-defined]\n",
      "\u001b[33mDEPRECATION: Loading egg at /Users/anitaguseinova/Library/Python/3.11/lib/python/site-packages/decord-0.6.0-py3.11-macosx-10.9-universal2.egg is deprecated. pip 24.3 will enforce this behaviour change. A possible replacement is to use pip for package installation.. Discussion can be found at https://github.com/pypa/pip/issues/12330\u001b[0m\u001b[33m\n",
      "\u001b[0mCollecting zh-core-web-lg==3.5.0\n",
      "  Downloading https://github.com/explosion/spacy-models/releases/download/zh_core_web_lg-3.5.0/zh_core_web_lg-3.5.0-py3-none-any.whl (603.0 MB)\n",
      "\u001b[2K     \u001b[90m━━━━━━━━━━━━━━━━━━━━━━━━━━━━━━━━━━━━━━━\u001b[0m \u001b[32m603.0/603.0 MB\u001b[0m \u001b[31m4.1 MB/s\u001b[0m eta \u001b[36m0:00:00\u001b[0m00:01\u001b[0m00:01\u001b[0m\n",
      "\u001b[?25hRequirement already satisfied: spacy<3.6.0,>=3.5.0 in /Library/Frameworks/Python.framework/Versions/3.11/lib/python3.11/site-packages (from zh-core-web-lg==3.5.0) (3.5.2)\n",
      "Requirement already satisfied: spacy-pkuseg<0.1.0,>=0.0.27 in /Library/Frameworks/Python.framework/Versions/3.11/lib/python3.11/site-packages (from zh-core-web-lg==3.5.0) (0.0.33)\n",
      "Requirement already satisfied: spacy-legacy<3.1.0,>=3.0.11 in /Library/Frameworks/Python.framework/Versions/3.11/lib/python3.11/site-packages (from spacy<3.6.0,>=3.5.0->zh-core-web-lg==3.5.0) (3.0.12)\n",
      "Requirement already satisfied: spacy-loggers<2.0.0,>=1.0.0 in /Library/Frameworks/Python.framework/Versions/3.11/lib/python3.11/site-packages (from spacy<3.6.0,>=3.5.0->zh-core-web-lg==3.5.0) (1.0.4)\n",
      "Requirement already satisfied: murmurhash<1.1.0,>=0.28.0 in /Library/Frameworks/Python.framework/Versions/3.11/lib/python3.11/site-packages (from spacy<3.6.0,>=3.5.0->zh-core-web-lg==3.5.0) (1.0.9)\n",
      "Requirement already satisfied: cymem<2.1.0,>=2.0.2 in /Library/Frameworks/Python.framework/Versions/3.11/lib/python3.11/site-packages (from spacy<3.6.0,>=3.5.0->zh-core-web-lg==3.5.0) (2.0.7)\n",
      "Requirement already satisfied: preshed<3.1.0,>=3.0.2 in /Library/Frameworks/Python.framework/Versions/3.11/lib/python3.11/site-packages (from spacy<3.6.0,>=3.5.0->zh-core-web-lg==3.5.0) (3.0.8)\n",
      "Requirement already satisfied: thinc<8.2.0,>=8.1.8 in /Library/Frameworks/Python.framework/Versions/3.11/lib/python3.11/site-packages (from spacy<3.6.0,>=3.5.0->zh-core-web-lg==3.5.0) (8.1.9)\n",
      "Requirement already satisfied: wasabi<1.2.0,>=0.9.1 in /Library/Frameworks/Python.framework/Versions/3.11/lib/python3.11/site-packages (from spacy<3.6.0,>=3.5.0->zh-core-web-lg==3.5.0) (1.1.1)\n",
      "Requirement already satisfied: srsly<3.0.0,>=2.4.3 in /Library/Frameworks/Python.framework/Versions/3.11/lib/python3.11/site-packages (from spacy<3.6.0,>=3.5.0->zh-core-web-lg==3.5.0) (2.4.6)\n",
      "Requirement already satisfied: catalogue<2.1.0,>=2.0.6 in /Library/Frameworks/Python.framework/Versions/3.11/lib/python3.11/site-packages (from spacy<3.6.0,>=3.5.0->zh-core-web-lg==3.5.0) (2.0.8)\n",
      "Requirement already satisfied: typer<0.8.0,>=0.3.0 in /Library/Frameworks/Python.framework/Versions/3.11/lib/python3.11/site-packages (from spacy<3.6.0,>=3.5.0->zh-core-web-lg==3.5.0) (0.7.0)\n",
      "Requirement already satisfied: pathy>=0.10.0 in /Library/Frameworks/Python.framework/Versions/3.11/lib/python3.11/site-packages (from spacy<3.6.0,>=3.5.0->zh-core-web-lg==3.5.0) (0.10.1)\n",
      "Requirement already satisfied: smart-open<7.0.0,>=5.2.1 in /Library/Frameworks/Python.framework/Versions/3.11/lib/python3.11/site-packages (from spacy<3.6.0,>=3.5.0->zh-core-web-lg==3.5.0) (6.3.0)\n",
      "Requirement already satisfied: tqdm<5.0.0,>=4.38.0 in /Library/Frameworks/Python.framework/Versions/3.11/lib/python3.11/site-packages (from spacy<3.6.0,>=3.5.0->zh-core-web-lg==3.5.0) (4.65.0)\n",
      "Requirement already satisfied: numpy>=1.15.0 in /Library/Frameworks/Python.framework/Versions/3.11/lib/python3.11/site-packages (from spacy<3.6.0,>=3.5.0->zh-core-web-lg==3.5.0) (1.24.3)\n",
      "Requirement already satisfied: requests<3.0.0,>=2.13.0 in /Library/Frameworks/Python.framework/Versions/3.11/lib/python3.11/site-packages (from spacy<3.6.0,>=3.5.0->zh-core-web-lg==3.5.0) (2.32.3)\n",
      "Requirement already satisfied: pydantic!=1.8,!=1.8.1,<1.11.0,>=1.7.4 in /Library/Frameworks/Python.framework/Versions/3.11/lib/python3.11/site-packages (from spacy<3.6.0,>=3.5.0->zh-core-web-lg==3.5.0) (1.10.7)\n",
      "Requirement already satisfied: jinja2 in /Library/Frameworks/Python.framework/Versions/3.11/lib/python3.11/site-packages (from spacy<3.6.0,>=3.5.0->zh-core-web-lg==3.5.0) (3.1.2)\n",
      "Requirement already satisfied: setuptools in /Library/Frameworks/Python.framework/Versions/3.11/lib/python3.11/site-packages (from spacy<3.6.0,>=3.5.0->zh-core-web-lg==3.5.0) (70.0.0)\n",
      "Requirement already satisfied: packaging>=20.0 in /Library/Frameworks/Python.framework/Versions/3.11/lib/python3.11/site-packages (from spacy<3.6.0,>=3.5.0->zh-core-web-lg==3.5.0) (23.1)\n",
      "Requirement already satisfied: langcodes<4.0.0,>=3.2.0 in /Library/Frameworks/Python.framework/Versions/3.11/lib/python3.11/site-packages (from spacy<3.6.0,>=3.5.0->zh-core-web-lg==3.5.0) (3.3.0)\n",
      "Requirement already satisfied: typing-extensions>=4.2.0 in /Library/Frameworks/Python.framework/Versions/3.11/lib/python3.11/site-packages (from pydantic!=1.8,!=1.8.1,<1.11.0,>=1.7.4->spacy<3.6.0,>=3.5.0->zh-core-web-lg==3.5.0) (4.12.2)\n",
      "Requirement already satisfied: charset-normalizer<4,>=2 in /Library/Frameworks/Python.framework/Versions/3.11/lib/python3.11/site-packages (from requests<3.0.0,>=2.13.0->spacy<3.6.0,>=3.5.0->zh-core-web-lg==3.5.0) (3.1.0)\n",
      "Requirement already satisfied: idna<4,>=2.5 in /Library/Frameworks/Python.framework/Versions/3.11/lib/python3.11/site-packages (from requests<3.0.0,>=2.13.0->spacy<3.6.0,>=3.5.0->zh-core-web-lg==3.5.0) (3.4)\n",
      "Requirement already satisfied: urllib3<3,>=1.21.1 in /Library/Frameworks/Python.framework/Versions/3.11/lib/python3.11/site-packages (from requests<3.0.0,>=2.13.0->spacy<3.6.0,>=3.5.0->zh-core-web-lg==3.5.0) (1.26.15)\n",
      "Requirement already satisfied: certifi>=2017.4.17 in /Library/Frameworks/Python.framework/Versions/3.11/lib/python3.11/site-packages (from requests<3.0.0,>=2.13.0->spacy<3.6.0,>=3.5.0->zh-core-web-lg==3.5.0) (2024.6.2)\n",
      "Requirement already satisfied: blis<0.8.0,>=0.7.8 in /Library/Frameworks/Python.framework/Versions/3.11/lib/python3.11/site-packages (from thinc<8.2.0,>=8.1.8->spacy<3.6.0,>=3.5.0->zh-core-web-lg==3.5.0) (0.7.9)\n",
      "Requirement already satisfied: confection<1.0.0,>=0.0.1 in /Library/Frameworks/Python.framework/Versions/3.11/lib/python3.11/site-packages (from thinc<8.2.0,>=8.1.8->spacy<3.6.0,>=3.5.0->zh-core-web-lg==3.5.0) (0.0.4)\n",
      "Requirement already satisfied: click<9.0.0,>=7.1.1 in /Library/Frameworks/Python.framework/Versions/3.11/lib/python3.11/site-packages (from typer<0.8.0,>=0.3.0->spacy<3.6.0,>=3.5.0->zh-core-web-lg==3.5.0) (8.1.3)\n",
      "Requirement already satisfied: MarkupSafe>=2.0 in /Library/Frameworks/Python.framework/Versions/3.11/lib/python3.11/site-packages (from jinja2->spacy<3.6.0,>=3.5.0->zh-core-web-lg==3.5.0) (2.1.2)\n",
      "Installing collected packages: zh-core-web-lg\n",
      "Successfully installed zh-core-web-lg-3.5.0\n",
      "\n",
      "\u001b[1m[\u001b[0m\u001b[34;49mnotice\u001b[0m\u001b[1;39;49m]\u001b[0m\u001b[39;49m A new release of pip is available: \u001b[0m\u001b[31;49m24.0\u001b[0m\u001b[39;49m -> \u001b[0m\u001b[32;49m24.1.2\u001b[0m\n",
      "\u001b[1m[\u001b[0m\u001b[34;49mnotice\u001b[0m\u001b[1;39;49m]\u001b[0m\u001b[39;49m To update, run: \u001b[0m\u001b[32;49mpip install --upgrade pip\u001b[0m\n",
      "\u001b[38;5;2m✔ Download and installation successful\u001b[0m\n",
      "You can now load the package via spacy.load('zh_core_web_lg')\n"
     ]
    }
   ],
   "source": [
    "!python3.11 -m spacy download zh_core_web_lg"
   ]
  },
  {
   "cell_type": "code",
   "execution_count": 27,
   "id": "70142de5-03e2-43fe-9949-e408bdb654e4",
   "metadata": {},
   "outputs": [],
   "source": [
    "import spacy\n",
    "import pandas as pd"
   ]
  },
  {
   "cell_type": "markdown",
   "id": "a6d55f61-3602-414b-9c28-6a1c16720c49",
   "metadata": {},
   "source": [
    "## Load multilingual NER model"
   ]
  },
  {
   "cell_type": "code",
   "execution_count": 26,
   "id": "0fb3ec9f-da2e-4bf5-9bda-b9ac4631a9fb",
   "metadata": {},
   "outputs": [
    {
     "name": "stdout",
     "output_type": "stream",
     "text": [
      "\n",
      "\n",
      "PER\n",
      "PER\n",
      "Александра Ивановича\n"
     ]
    }
   ],
   "source": [
    "nlp = spacy.load('xx_ent_wiki_sm')"
   ]
  },
  {
   "cell_type": "code",
   "execution_count": 43,
   "id": "a5be0b78-7678-4ef7-a082-28c49255c219",
   "metadata": {},
   "outputs": [],
   "source": [
    "langs = ['ca', 'de', 'en', 'es', 'fr', 'it', 'ja', 'nl', 'pl', 'pt', 'ru', 'sv', 'uk', 'zh-TW']"
   ]
  },
  {
   "cell_type": "markdown",
   "id": "2f6338ed-34b4-40d6-bd0d-5e05a91a0709",
   "metadata": {},
   "source": [
    "## Download results"
   ]
  },
  {
   "cell_type": "code",
   "execution_count": 30,
   "id": "5cc428ee-e38a-4d24-95be-edeff75d67b1",
   "metadata": {},
   "outputs": [],
   "source": [
    "files = ['results/mBlip_simple_prompt.tsv', 'results/mBlip_context_prompt.tsv', 'results/mBlip_transl_context_prompt.tsv']"
   ]
  },
  {
   "cell_type": "code",
   "execution_count": 37,
   "id": "af09e8cd-d51d-4453-9c80-c874c0ebba2f",
   "metadata": {},
   "outputs": [
    {
     "data": {
      "text/html": [
       "<div>\n",
       "<style scoped>\n",
       "    .dataframe tbody tr th:only-of-type {\n",
       "        vertical-align: middle;\n",
       "    }\n",
       "\n",
       "    .dataframe tbody tr th {\n",
       "        vertical-align: top;\n",
       "    }\n",
       "\n",
       "    .dataframe thead th {\n",
       "        text-align: right;\n",
       "    }\n",
       "</style>\n",
       "<table border=\"1\" class=\"dataframe\">\n",
       "  <thead>\n",
       "    <tr style=\"text-align: right;\">\n",
       "      <th></th>\n",
       "      <th>Unnamed: 0</th>\n",
       "      <th>lang</th>\n",
       "      <th>ref_caption</th>\n",
       "      <th>gen_caption</th>\n",
       "    </tr>\n",
       "  </thead>\n",
       "  <tbody>\n",
       "    <tr>\n",
       "      <th>0</th>\n",
       "      <td>0</td>\n",
       "      <td>iw</td>\n",
       "      <td>דגל הצבא</td>\n",
       "      <td>דגל עם דגל רוסי על רקע ירוק, לבן ושחור</td>\n",
       "    </tr>\n",
       "    <tr>\n",
       "      <th>1</th>\n",
       "      <td>1</td>\n",
       "      <td>iw</td>\n",
       "      <td>וושינגטון בגיל ארבעים, 1772</td>\n",
       "      <td>גבר עם כובע ירוק עם קסדה.</td>\n",
       "    </tr>\n",
       "    <tr>\n",
       "      <th>2</th>\n",
       "      <td>2</td>\n",
       "      <td>iw</td>\n",
       "      <td>שורשים של המשוואה לרמות אנרגיה מקוונטטות בבור ...</td>\n",
       "      <td>תיאור גרפי של תיאור גרפי של תיאור גרפי של תיאו...</td>\n",
       "    </tr>\n",
       "    <tr>\n",
       "      <th>3</th>\n",
       "      <td>3</td>\n",
       "      <td>iw</td>\n",
       "      <td>בניית תא שיט בתעלה ב-1906</td>\n",
       "      <td>צילום בשחור-לבן של רכבת מים.</td>\n",
       "    </tr>\n",
       "    <tr>\n",
       "      <th>4</th>\n",
       "      <td>4</td>\n",
       "      <td>iw</td>\n",
       "      <td>משמאל מאונט הופ, אתר המצבור הסופי של קבוצת ים רוס</td>\n",
       "      <td>גבר עם סקי על רקע של אזור סגור.</td>\n",
       "    </tr>\n",
       "    <tr>\n",
       "      <th>...</th>\n",
       "      <td>...</td>\n",
       "      <td>...</td>\n",
       "      <td>...</td>\n",
       "      <td>...</td>\n",
       "    </tr>\n",
       "    <tr>\n",
       "      <th>14653</th>\n",
       "      <td>14653</td>\n",
       "      <td>hu</td>\n",
       "      <td>Nagy sonkakagyló a máltai Vilhena Palace-hoz t...</td>\n",
       "      <td>Egy kék tálban egy nagy kő.</td>\n",
       "    </tr>\n",
       "    <tr>\n",
       "      <th>14654</th>\n",
       "      <td>14654</td>\n",
       "      <td>hu</td>\n",
       "      <td>Iwobi (jobbra) az Arsenal U21-es csapatában 20...</td>\n",
       "      <td>Egy csapat férfi játszik egy labdarúgó meccsen.</td>\n",
       "    </tr>\n",
       "    <tr>\n",
       "      <th>14655</th>\n",
       "      <td>14655</td>\n",
       "      <td>hu</td>\n",
       "      <td>A meteorkráter és környéke panorámafelvételen.</td>\n",
       "      <td>Egy hatalmas vulkán, amely egy hegyi vidéket á...</td>\n",
       "    </tr>\n",
       "    <tr>\n",
       "      <th>14656</th>\n",
       "      <td>14656</td>\n",
       "      <td>hu</td>\n",
       "      <td>Az Omega  tagjai 1970-ben, Molnár György, Mihá...</td>\n",
       "      <td>Egy csoport férfi áll egy szobában.</td>\n",
       "    </tr>\n",
       "    <tr>\n",
       "      <th>14657</th>\n",
       "      <td>14657</td>\n",
       "      <td>hu</td>\n",
       "      <td>Brigham Young</td>\n",
       "      <td>Egy férfi fekete-fehér fotója, aki egy ruhát v...</td>\n",
       "    </tr>\n",
       "  </tbody>\n",
       "</table>\n",
       "<p>14658 rows × 4 columns</p>\n",
       "</div>"
      ],
      "text/plain": [
       "       Unnamed: 0 lang                                        ref_caption   \n",
       "0               0   iw                                           דגל הצבא  \\\n",
       "1               1   iw                        וושינגטון בגיל ארבעים, 1772   \n",
       "2               2   iw  שורשים של המשוואה לרמות אנרגיה מקוונטטות בבור ...   \n",
       "3               3   iw                          בניית תא שיט בתעלה ב-1906   \n",
       "4               4   iw  משמאל מאונט הופ, אתר המצבור הסופי של קבוצת ים רוס   \n",
       "...           ...  ...                                                ...   \n",
       "14653       14653   hu  Nagy sonkakagyló a máltai Vilhena Palace-hoz t...   \n",
       "14654       14654   hu  Iwobi (jobbra) az Arsenal U21-es csapatában 20...   \n",
       "14655       14655   hu     A meteorkráter és környéke panorámafelvételen.   \n",
       "14656       14656   hu  Az Omega  tagjai 1970-ben, Molnár György, Mihá...   \n",
       "14657       14657   hu                                      Brigham Young   \n",
       "\n",
       "                                             gen_caption  \n",
       "0                 דגל עם דגל רוסי על רקע ירוק, לבן ושחור  \n",
       "1                              גבר עם כובע ירוק עם קסדה.  \n",
       "2      תיאור גרפי של תיאור גרפי של תיאור גרפי של תיאו...  \n",
       "3                           צילום בשחור-לבן של רכבת מים.  \n",
       "4                        גבר עם סקי על רקע של אזור סגור.  \n",
       "...                                                  ...  \n",
       "14653                        Egy kék tálban egy nagy kő.  \n",
       "14654    Egy csapat férfi játszik egy labdarúgó meccsen.  \n",
       "14655  Egy hatalmas vulkán, amely egy hegyi vidéket á...  \n",
       "14656                Egy csoport férfi áll egy szobában.  \n",
       "14657  Egy férfi fekete-fehér fotója, aki egy ruhát v...  \n",
       "\n",
       "[14658 rows x 4 columns]"
      ]
     },
     "execution_count": 37,
     "metadata": {},
     "output_type": "execute_result"
    }
   ],
   "source": [
    "df_simple = pd.read_csv(files[0], sep='\\t')\n",
    "df_simple"
   ]
  },
  {
   "cell_type": "markdown",
   "id": "c5aef764-4147-48ba-9212-a96e61148c67",
   "metadata": {},
   "source": [
    "## Calculate percentage of NER in original and generated captions"
   ]
  },
  {
   "cell_type": "code",
   "execution_count": 103,
   "id": "382ee089-5d4a-44da-a4d3-bd4ad7f12d70",
   "metadata": {},
   "outputs": [],
   "source": [
    "def retrieve_tokens_and_ents(caption, langs, nlp_model):\n",
    "    tokens_by_lang, ents_by_lang = {}, {}\n",
    "\n",
    "    for lang in langs:\n",
    "        tokens, ents = 0, 0\n",
    "        ref_caps = df_simple[df_simple['lang'] == lang][caption].values\n",
    "        for ref_cap in ref_caps:\n",
    "            doc = nlp_model(ref_cap)\n",
    "            tokens += len(doc)\n",
    "            ents += len(doc.ents)\n",
    "        tokens_by_lang[lang] = tokens\n",
    "        ents_by_lang[lang] = ents\n",
    "    return tokens_by_lang, ents_by_lang"
   ]
  },
  {
   "cell_type": "code",
   "execution_count": 104,
   "id": "5fbf102c-b586-4fe9-9658-272a35bbda06",
   "metadata": {},
   "outputs": [
    {
     "name": "stdout",
     "output_type": "stream",
     "text": [
      "{'ca': 8818, 'de': 6195, 'en': 9698, 'es': 9398, 'fr': 9010, 'it': 8086, 'ja': 1537, 'nl': 6807, 'pl': 6557, 'pt': 9300, 'ru': 7725, 'sv': 7827, 'uk': 6721, 'zh-TW': 1428} {'ca': 1139, 'de': 994, 'en': 1404, 'es': 1228, 'fr': 1107, 'it': 1191, 'ja': 293, 'nl': 1017, 'pl': 1126, 'pt': 1241, 'ru': 1057, 'sv': 1187, 'uk': 976, 'zh-TW': 310}\n"
     ]
    }
   ],
   "source": [
    "tokens, ents = retrieve_tokens_and_ents('ref_caption', langs, nlp)\n",
    "print(tokens, ents)"
   ]
  },
  {
   "cell_type": "code",
   "execution_count": 105,
   "id": "0b48d73b-ba15-40a5-89e3-212de6f9e027",
   "metadata": {},
   "outputs": [
    {
     "name": "stdout",
     "output_type": "stream",
     "text": [
      "{'ca': '12.92%', 'de': '16.05%', 'en': '14.48%', 'es': '13.07%', 'fr': '12.29%', 'it': '14.73%', 'ja': '19.06%', 'nl': '14.94%', 'pl': '17.17%', 'pt': '13.34%', 'ru': '13.68%', 'sv': '15.17%', 'uk': '14.52%', 'zh-TW': '21.71%'}\n"
     ]
    }
   ],
   "source": [
    "ents_to_tokens_ratio = {}\n",
    "for lang in tokens:\n",
    "    ents_to_tokens_ratio[lang] = str(round(ents[lang] / tokens[lang] * 100, 2))+'%'\n",
    "print(ents_to_tokens_ratio)"
   ]
  },
  {
   "cell_type": "code",
   "execution_count": 106,
   "id": "4b331a5a-2881-4307-8a76-8b4d6b3e6799",
   "metadata": {},
   "outputs": [
    {
     "name": "stdout",
     "output_type": "stream",
     "text": [
      "{'ca': 8365, 'de': 7217, 'en': 8475, 'es': 8717, 'fr': 8266, 'it': 8742, 'ja': 1465, 'nl': 7647, 'pl': 5640, 'pt': 5800, 'ru': 6207, 'sv': 7265, 'uk': 5992, 'zh-TW': 1315} {'ca': 69, 'de': 57, 'en': 101, 'es': 43, 'fr': 55, 'it': 37, 'ja': 254, 'nl': 35, 'pl': 118, 'pt': 317, 'ru': 63, 'sv': 250, 'uk': 59, 'zh-TW': 408}\n"
     ]
    }
   ],
   "source": [
    "tokens_gen, ents_gen = retrieve_tokens_and_ents('gen_caption', langs, nlp)\n",
    "print(tokens_gen, ents_gen)"
   ]
  },
  {
   "cell_type": "code",
   "execution_count": 107,
   "id": "d603c713-cd80-440d-a780-4cbe74ec037c",
   "metadata": {},
   "outputs": [
    {
     "name": "stdout",
     "output_type": "stream",
     "text": [
      "{'ca': '0.82%', 'de': '0.79%', 'en': '1.19%', 'es': '0.49%', 'fr': '0.67%', 'it': '0.42%', 'ja': '17.34%', 'nl': '0.46%', 'pl': '2.09%', 'pt': '5.47%', 'ru': '1.01%', 'sv': '3.44%', 'uk': '0.98%', 'zh-TW': '31.03%'}\n"
     ]
    }
   ],
   "source": [
    "gen_ents_to_tokens_ratio = {}\n",
    "for lang in tokens_by_lang:\n",
    "    gen_ents_to_tokens_ratio[lang] = str(round(ents_gen[lang] / tokens_gen[lang] * 100, 2))+'%'\n",
    "print(gen_ents_to_tokens_ratio)"
   ]
  },
  {
   "cell_type": "code",
   "execution_count": 108,
   "id": "48f9c687-1b00-4163-a956-05a397d386b7",
   "metadata": {},
   "outputs": [
    {
     "name": "stdout",
     "output_type": "stream",
     "text": [
      "   Before After\n",
      "ca 12.92% 0.82%\n",
      "de 16.05% 0.79%\n",
      "en 14.48% 1.19%\n",
      "es 13.07% 0.49%\n",
      "fr 12.29% 0.67%\n",
      "it 14.73% 0.42%\n",
      "ja 19.06% 17.34%\n",
      "nl 14.94% 0.46%\n",
      "pl 17.17% 2.09%\n",
      "pt 13.34% 5.47%\n",
      "ru 13.68% 1.01%\n",
      "sv 15.17% 3.44%\n",
      "uk 14.52% 0.98%\n",
      "zh-TW 21.71% 31.03%\n"
     ]
    }
   ],
   "source": [
    "print('   Before After')\n",
    "for lang in langs:\n",
    "    print(f'{lang} {ents_to_tokens_ratio[lang]} {gen_ents_to_tokens_ratio[lang]}')"
   ]
  },
  {
   "cell_type": "markdown",
   "id": "c2ed06ae-f618-433c-bbe8-4094f0e44c55",
   "metadata": {},
   "source": [
    "## Check Japanese and Chinese NER on separate models"
   ]
  },
  {
   "cell_type": "markdown",
   "id": "5c4f969e-c9c6-4b07-a572-95bd871b62fe",
   "metadata": {},
   "source": [
    "### Japanese"
   ]
  },
  {
   "cell_type": "code",
   "execution_count": 101,
   "id": "158c9cd0-e612-4222-a81b-31d88440c42b",
   "metadata": {},
   "outputs": [],
   "source": [
    "nlp_jp = spacy.load('ja_core_news_lg')"
   ]
  },
  {
   "cell_type": "code",
   "execution_count": 111,
   "id": "b6a94c08-5aad-41d8-99db-71ba866ab84e",
   "metadata": {},
   "outputs": [
    {
     "name": "stdout",
     "output_type": "stream",
     "text": [
      "{'ja': 8606} {'ja': 1177}\n"
     ]
    }
   ],
   "source": [
    "tokens_jp, ents_jp = retrieve_tokens_and_ents('ref_caption', ['ja'], nlp_jp)\n",
    "print(tokens_jp, ents_jp)"
   ]
  },
  {
   "cell_type": "code",
   "execution_count": 113,
   "id": "2173535c-c93c-4352-ad39-bd966d2d5870",
   "metadata": {},
   "outputs": [
    {
     "name": "stdout",
     "output_type": "stream",
     "text": [
      "13.68%\n"
     ]
    }
   ],
   "source": [
    "ents_to_tokens_ratio_jp = str(round(ents_jp['ja'] / tokens_jp['ja'] * 100, 2))+'%'\n",
    "print(ents_to_tokens_ratio_jp)"
   ]
  },
  {
   "cell_type": "code",
   "execution_count": 114,
   "id": "78b08d55-9694-4252-92d0-1ae2cc58848c",
   "metadata": {},
   "outputs": [
    {
     "name": "stdout",
     "output_type": "stream",
     "text": [
      "{'ja': 7276} {'ja': 177}\n"
     ]
    }
   ],
   "source": [
    "tokens_jp_gen, ents_jp_gen = retrieve_tokens_and_ents('gen_caption', ['ja'], nlp_jp)\n",
    "print(tokens_jp_gen, ents_jp_gen)"
   ]
  },
  {
   "cell_type": "code",
   "execution_count": 116,
   "id": "0d0af87d-6ee0-409c-90a6-c47ea1d30ec7",
   "metadata": {},
   "outputs": [
    {
     "name": "stdout",
     "output_type": "stream",
     "text": [
      "2.43%\n"
     ]
    }
   ],
   "source": [
    "gen_ents_to_tokens_ratio_jp = str(round(ents_jp_gen['ja'] / tokens_jp_gen['ja'] * 100, 2))+'%'\n",
    "print(gen_ents_to_tokens_ratio_jp)"
   ]
  },
  {
   "cell_type": "markdown",
   "id": "d4bf8563-c451-4f84-8b1e-55c9ea14bc37",
   "metadata": {},
   "source": [
    "### Chinese"
   ]
  },
  {
   "cell_type": "code",
   "execution_count": 117,
   "id": "e36112bc-b758-4c12-9a89-7f09df2c3efa",
   "metadata": {},
   "outputs": [],
   "source": [
    "nlp_zh = spacy.load('zh_core_web_lg')"
   ]
  },
  {
   "cell_type": "code",
   "execution_count": 118,
   "id": "1a9a5e8d-d9f7-446a-a1d2-0c6e292f34be",
   "metadata": {},
   "outputs": [
    {
     "name": "stdout",
     "output_type": "stream",
     "text": [
      "{'zh-TW': 6949} {'zh-TW': 1288}\n"
     ]
    }
   ],
   "source": [
    "tokens_zh, ents_zh = retrieve_tokens_and_ents('ref_caption', ['zh-TW'], nlp_zh)\n",
    "print(tokens_zh, ents_zh)"
   ]
  },
  {
   "cell_type": "code",
   "execution_count": 119,
   "id": "30320edf-7077-4b1b-b543-4862f186d265",
   "metadata": {},
   "outputs": [
    {
     "name": "stdout",
     "output_type": "stream",
     "text": [
      "18.54%\n"
     ]
    }
   ],
   "source": [
    "ents_to_tokens_ratio_zh = str(round(ents_zh['zh-TW'] / tokens_zh['zh-TW'] * 100, 2))+'%'\n",
    "print(ents_to_tokens_ratio_zh)"
   ]
  },
  {
   "cell_type": "code",
   "execution_count": 120,
   "id": "1866c707-0285-4fe0-9bd7-fe4f58b537a9",
   "metadata": {},
   "outputs": [
    {
     "name": "stdout",
     "output_type": "stream",
     "text": [
      "{'zh-TW': 5671} {'zh-TW': 484}\n"
     ]
    }
   ],
   "source": [
    "tokens_zh_gen, ents_zh_gen = retrieve_tokens_and_ents('gen_caption', ['zh-TW'], nlp_jp)\n",
    "print(tokens_zh_gen, ents_zh_gen)"
   ]
  },
  {
   "cell_type": "code",
   "execution_count": 122,
   "id": "07003922-1b69-4027-8e4f-d91da117e228",
   "metadata": {},
   "outputs": [
    {
     "name": "stdout",
     "output_type": "stream",
     "text": [
      "8.53%\n"
     ]
    }
   ],
   "source": [
    "gen_ents_to_tokens_ratio_zh = str(round(ents_zh_gen['zh-TW'] / tokens_zh_gen['zh-TW'] * 100, 2))+'%'\n",
    "print(gen_ents_to_tokens_ratio_zh)"
   ]
  }
 ],
 "metadata": {
  "kernelspec": {
   "display_name": "Python 3 (ipykernel)",
   "language": "python",
   "name": "python3"
  },
  "language_info": {
   "codemirror_mode": {
    "name": "ipython",
    "version": 3
   },
   "file_extension": ".py",
   "mimetype": "text/x-python",
   "name": "python",
   "nbconvert_exporter": "python",
   "pygments_lexer": "ipython3",
   "version": "3.11.3"
  }
 },
 "nbformat": 4,
 "nbformat_minor": 5
}
