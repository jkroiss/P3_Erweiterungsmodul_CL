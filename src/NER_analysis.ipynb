{
 "cells": [
  {
   "cell_type": "code",
   "execution_count": 5,
   "id": "dd04d2da-4f20-4f9a-828b-b6fdeb0ea899",
   "metadata": {
    "collapsed": true,
    "jupyter": {
     "outputs_hidden": true
    },
    "scrolled": true
   },
   "outputs": [
    {
     "name": "stdout",
     "output_type": "stream",
     "text": [
      "\u001b[33mDEPRECATION: Loading egg at /Users/anitaguseinova/Library/Python/3.11/lib/python/site-packages/decord-0.6.0-py3.11-macosx-10.9-universal2.egg is deprecated. pip 24.3 will enforce this behaviour change. A possible replacement is to use pip for package installation.. Discussion can be found at https://github.com/pypa/pip/issues/12330\u001b[0m\u001b[33m\n",
      "\u001b[0mRequirement already satisfied: spacy in /Library/Frameworks/Python.framework/Versions/3.11/lib/python3.11/site-packages (3.5.2)\n",
      "Requirement already satisfied: spacy-legacy<3.1.0,>=3.0.11 in /Library/Frameworks/Python.framework/Versions/3.11/lib/python3.11/site-packages (from spacy) (3.0.12)\n",
      "Requirement already satisfied: spacy-loggers<2.0.0,>=1.0.0 in /Library/Frameworks/Python.framework/Versions/3.11/lib/python3.11/site-packages (from spacy) (1.0.4)\n",
      "Requirement already satisfied: murmurhash<1.1.0,>=0.28.0 in /Library/Frameworks/Python.framework/Versions/3.11/lib/python3.11/site-packages (from spacy) (1.0.9)\n",
      "Requirement already satisfied: cymem<2.1.0,>=2.0.2 in /Library/Frameworks/Python.framework/Versions/3.11/lib/python3.11/site-packages (from spacy) (2.0.7)\n",
      "Requirement already satisfied: preshed<3.1.0,>=3.0.2 in /Library/Frameworks/Python.framework/Versions/3.11/lib/python3.11/site-packages (from spacy) (3.0.8)\n",
      "Requirement already satisfied: thinc<8.2.0,>=8.1.8 in /Library/Frameworks/Python.framework/Versions/3.11/lib/python3.11/site-packages (from spacy) (8.1.9)\n",
      "Requirement already satisfied: wasabi<1.2.0,>=0.9.1 in /Library/Frameworks/Python.framework/Versions/3.11/lib/python3.11/site-packages (from spacy) (1.1.1)\n",
      "Requirement already satisfied: srsly<3.0.0,>=2.4.3 in /Library/Frameworks/Python.framework/Versions/3.11/lib/python3.11/site-packages (from spacy) (2.4.6)\n",
      "Requirement already satisfied: catalogue<2.1.0,>=2.0.6 in /Library/Frameworks/Python.framework/Versions/3.11/lib/python3.11/site-packages (from spacy) (2.0.8)\n",
      "Requirement already satisfied: typer<0.8.0,>=0.3.0 in /Library/Frameworks/Python.framework/Versions/3.11/lib/python3.11/site-packages (from spacy) (0.7.0)\n",
      "Requirement already satisfied: pathy>=0.10.0 in /Library/Frameworks/Python.framework/Versions/3.11/lib/python3.11/site-packages (from spacy) (0.10.1)\n",
      "Requirement already satisfied: smart-open<7.0.0,>=5.2.1 in /Library/Frameworks/Python.framework/Versions/3.11/lib/python3.11/site-packages (from spacy) (6.3.0)\n",
      "Requirement already satisfied: tqdm<5.0.0,>=4.38.0 in /Library/Frameworks/Python.framework/Versions/3.11/lib/python3.11/site-packages (from spacy) (4.65.0)\n",
      "Requirement already satisfied: numpy>=1.15.0 in /Library/Frameworks/Python.framework/Versions/3.11/lib/python3.11/site-packages (from spacy) (1.24.3)\n",
      "Requirement already satisfied: requests<3.0.0,>=2.13.0 in /Library/Frameworks/Python.framework/Versions/3.11/lib/python3.11/site-packages (from spacy) (2.32.3)\n",
      "Requirement already satisfied: pydantic!=1.8,!=1.8.1,<1.11.0,>=1.7.4 in /Library/Frameworks/Python.framework/Versions/3.11/lib/python3.11/site-packages (from spacy) (1.10.7)\n",
      "Requirement already satisfied: jinja2 in /Library/Frameworks/Python.framework/Versions/3.11/lib/python3.11/site-packages (from spacy) (3.1.2)\n",
      "Requirement already satisfied: setuptools in /Library/Frameworks/Python.framework/Versions/3.11/lib/python3.11/site-packages (from spacy) (70.0.0)\n",
      "Requirement already satisfied: packaging>=20.0 in /Library/Frameworks/Python.framework/Versions/3.11/lib/python3.11/site-packages (from spacy) (23.1)\n",
      "Requirement already satisfied: langcodes<4.0.0,>=3.2.0 in /Library/Frameworks/Python.framework/Versions/3.11/lib/python3.11/site-packages (from spacy) (3.3.0)\n",
      "Requirement already satisfied: typing-extensions>=4.2.0 in /Library/Frameworks/Python.framework/Versions/3.11/lib/python3.11/site-packages (from pydantic!=1.8,!=1.8.1,<1.11.0,>=1.7.4->spacy) (4.12.2)\n",
      "Requirement already satisfied: charset-normalizer<4,>=2 in /Library/Frameworks/Python.framework/Versions/3.11/lib/python3.11/site-packages (from requests<3.0.0,>=2.13.0->spacy) (3.1.0)\n",
      "Requirement already satisfied: idna<4,>=2.5 in /Library/Frameworks/Python.framework/Versions/3.11/lib/python3.11/site-packages (from requests<3.0.0,>=2.13.0->spacy) (3.4)\n",
      "Requirement already satisfied: urllib3<3,>=1.21.1 in /Library/Frameworks/Python.framework/Versions/3.11/lib/python3.11/site-packages (from requests<3.0.0,>=2.13.0->spacy) (1.26.15)\n",
      "Requirement already satisfied: certifi>=2017.4.17 in /Library/Frameworks/Python.framework/Versions/3.11/lib/python3.11/site-packages (from requests<3.0.0,>=2.13.0->spacy) (2024.6.2)\n",
      "Requirement already satisfied: blis<0.8.0,>=0.7.8 in /Library/Frameworks/Python.framework/Versions/3.11/lib/python3.11/site-packages (from thinc<8.2.0,>=8.1.8->spacy) (0.7.9)\n",
      "Requirement already satisfied: confection<1.0.0,>=0.0.1 in /Library/Frameworks/Python.framework/Versions/3.11/lib/python3.11/site-packages (from thinc<8.2.0,>=8.1.8->spacy) (0.0.4)\n",
      "Requirement already satisfied: click<9.0.0,>=7.1.1 in /Library/Frameworks/Python.framework/Versions/3.11/lib/python3.11/site-packages (from typer<0.8.0,>=0.3.0->spacy) (8.1.3)\n",
      "Requirement already satisfied: MarkupSafe>=2.0 in /Library/Frameworks/Python.framework/Versions/3.11/lib/python3.11/site-packages (from jinja2->spacy) (2.1.2)\n",
      "\n",
      "\u001b[1m[\u001b[0m\u001b[34;49mnotice\u001b[0m\u001b[1;39;49m]\u001b[0m\u001b[39;49m A new release of pip is available: \u001b[0m\u001b[31;49m24.0\u001b[0m\u001b[39;49m -> \u001b[0m\u001b[32;49m24.1.2\u001b[0m\n",
      "\u001b[1m[\u001b[0m\u001b[34;49mnotice\u001b[0m\u001b[1;39;49m]\u001b[0m\u001b[39;49m To update, run: \u001b[0m\u001b[32;49mpip install --upgrade pip\u001b[0m\n"
     ]
    }
   ],
   "source": [
    "!pip install spacy"
   ]
  },
  {
   "cell_type": "code",
   "execution_count": null,
   "id": "5031f3f4-6d15-45ca-835b-9a58fc5b0d87",
   "metadata": {
    "scrolled": true
   },
   "outputs": [],
   "source": [
    "!python3.11 -m spacy download xx_ent_wiki_sm"
   ]
  },
  {
   "cell_type": "code",
   "execution_count": null,
   "id": "a56d2b9e-30b7-4d61-907d-d3e0dbd3144d",
   "metadata": {},
   "outputs": [],
   "source": [
    "!python3.11 -m spacy download ja_core_news_lg"
   ]
  },
  {
   "cell_type": "code",
   "execution_count": null,
   "id": "df0f68af-92d7-4765-8517-544a63b099b5",
   "metadata": {},
   "outputs": [],
   "source": [
    "!python3.11 -m spacy download zh_core_web_lg"
   ]
  },
  {
   "cell_type": "markdown",
   "id": "a6d55f61-3602-414b-9c28-6a1c16720c49",
   "metadata": {},
   "source": [
    "# Load multilingual NER model"
   ]
  },
  {
   "cell_type": "code",
   "execution_count": 1,
   "id": "70142de5-03e2-43fe-9949-e408bdb654e4",
   "metadata": {},
   "outputs": [
    {
     "name": "stderr",
     "output_type": "stream",
     "text": [
      "/Library/Frameworks/Python.framework/Versions/3.11/lib/python3.11/site-packages/thinc/compat.py:36: UserWarning: 'has_mps' is deprecated, please use 'torch.backends.mps.is_built()'\n",
      "  hasattr(torch, \"has_mps\")\n",
      "/Library/Frameworks/Python.framework/Versions/3.11/lib/python3.11/site-packages/thinc/compat.py:37: UserWarning: 'has_mps' is deprecated, please use 'torch.backends.mps.is_built()'\n",
      "  and torch.has_mps  # type: ignore[attr-defined]\n"
     ]
    }
   ],
   "source": [
    "import spacy\n",
    "import pandas as pd"
   ]
  },
  {
   "cell_type": "code",
   "execution_count": 2,
   "id": "0fb3ec9f-da2e-4bf5-9bda-b9ac4631a9fb",
   "metadata": {},
   "outputs": [],
   "source": [
    "nlp = spacy.load('xx_ent_wiki_sm')"
   ]
  },
  {
   "cell_type": "code",
   "execution_count": 3,
   "id": "a5be0b78-7678-4ef7-a082-28c49255c219",
   "metadata": {},
   "outputs": [],
   "source": [
    "# list languages covered by the model\n",
    "langs = ['ca', 'de', 'en', 'es', 'fr', 'it', 'ja', 'nl', 'pl', 'pt', 'ru', 'sv', 'uk', 'zh-TW']"
   ]
  },
  {
   "cell_type": "markdown",
   "id": "2f6338ed-34b4-40d6-bd0d-5e05a91a0709",
   "metadata": {},
   "source": [
    "# Download results"
   ]
  },
  {
   "cell_type": "code",
   "execution_count": 4,
   "id": "5cc428ee-e38a-4d24-95be-edeff75d67b1",
   "metadata": {},
   "outputs": [],
   "source": [
    "files = ['results/mBlip_simple_prompt.tsv', 'results/mBlip_context_prompt.tsv', 'results/mBlip_transl_context_prompt.tsv']"
   ]
  },
  {
   "cell_type": "code",
   "execution_count": 5,
   "id": "af09e8cd-d51d-4453-9c80-c874c0ebba2f",
   "metadata": {},
   "outputs": [
    {
     "data": {
      "text/html": [
       "<div>\n",
       "<style scoped>\n",
       "    .dataframe tbody tr th:only-of-type {\n",
       "        vertical-align: middle;\n",
       "    }\n",
       "\n",
       "    .dataframe tbody tr th {\n",
       "        vertical-align: top;\n",
       "    }\n",
       "\n",
       "    .dataframe thead th {\n",
       "        text-align: right;\n",
       "    }\n",
       "</style>\n",
       "<table border=\"1\" class=\"dataframe\">\n",
       "  <thead>\n",
       "    <tr style=\"text-align: right;\">\n",
       "      <th></th>\n",
       "      <th>Unnamed: 0</th>\n",
       "      <th>lang</th>\n",
       "      <th>ref_caption</th>\n",
       "      <th>gen_caption</th>\n",
       "    </tr>\n",
       "  </thead>\n",
       "  <tbody>\n",
       "    <tr>\n",
       "      <th>0</th>\n",
       "      <td>0</td>\n",
       "      <td>iw</td>\n",
       "      <td>דגל הצבא</td>\n",
       "      <td>דגל עם דגל רוסי על רקע ירוק, לבן ושחור</td>\n",
       "    </tr>\n",
       "    <tr>\n",
       "      <th>1</th>\n",
       "      <td>1</td>\n",
       "      <td>iw</td>\n",
       "      <td>וושינגטון בגיל ארבעים, 1772</td>\n",
       "      <td>גבר עם כובע ירוק עם קסדה.</td>\n",
       "    </tr>\n",
       "    <tr>\n",
       "      <th>2</th>\n",
       "      <td>2</td>\n",
       "      <td>iw</td>\n",
       "      <td>שורשים של המשוואה לרמות אנרגיה מקוונטטות בבור ...</td>\n",
       "      <td>תיאור גרפי של תיאור גרפי של תיאור גרפי של תיאו...</td>\n",
       "    </tr>\n",
       "    <tr>\n",
       "      <th>3</th>\n",
       "      <td>3</td>\n",
       "      <td>iw</td>\n",
       "      <td>בניית תא שיט בתעלה ב-1906</td>\n",
       "      <td>צילום בשחור-לבן של רכבת מים.</td>\n",
       "    </tr>\n",
       "    <tr>\n",
       "      <th>4</th>\n",
       "      <td>4</td>\n",
       "      <td>iw</td>\n",
       "      <td>משמאל מאונט הופ, אתר המצבור הסופי של קבוצת ים רוס</td>\n",
       "      <td>גבר עם סקי על רקע של אזור סגור.</td>\n",
       "    </tr>\n",
       "    <tr>\n",
       "      <th>...</th>\n",
       "      <td>...</td>\n",
       "      <td>...</td>\n",
       "      <td>...</td>\n",
       "      <td>...</td>\n",
       "    </tr>\n",
       "    <tr>\n",
       "      <th>14653</th>\n",
       "      <td>14653</td>\n",
       "      <td>hu</td>\n",
       "      <td>Nagy sonkakagyló a máltai Vilhena Palace-hoz t...</td>\n",
       "      <td>Egy kék tálban egy nagy kő.</td>\n",
       "    </tr>\n",
       "    <tr>\n",
       "      <th>14654</th>\n",
       "      <td>14654</td>\n",
       "      <td>hu</td>\n",
       "      <td>Iwobi (jobbra) az Arsenal U21-es csapatában 20...</td>\n",
       "      <td>Egy csapat férfi játszik egy labdarúgó meccsen.</td>\n",
       "    </tr>\n",
       "    <tr>\n",
       "      <th>14655</th>\n",
       "      <td>14655</td>\n",
       "      <td>hu</td>\n",
       "      <td>A meteorkráter és környéke panorámafelvételen.</td>\n",
       "      <td>Egy hatalmas vulkán, amely egy hegyi vidéket á...</td>\n",
       "    </tr>\n",
       "    <tr>\n",
       "      <th>14656</th>\n",
       "      <td>14656</td>\n",
       "      <td>hu</td>\n",
       "      <td>Az Omega  tagjai 1970-ben, Molnár György, Mihá...</td>\n",
       "      <td>Egy csoport férfi áll egy szobában.</td>\n",
       "    </tr>\n",
       "    <tr>\n",
       "      <th>14657</th>\n",
       "      <td>14657</td>\n",
       "      <td>hu</td>\n",
       "      <td>Brigham Young</td>\n",
       "      <td>Egy férfi fekete-fehér fotója, aki egy ruhát v...</td>\n",
       "    </tr>\n",
       "  </tbody>\n",
       "</table>\n",
       "<p>14658 rows × 4 columns</p>\n",
       "</div>"
      ],
      "text/plain": [
       "       Unnamed: 0 lang                                        ref_caption   \n",
       "0               0   iw                                           דגל הצבא  \\\n",
       "1               1   iw                        וושינגטון בגיל ארבעים, 1772   \n",
       "2               2   iw  שורשים של המשוואה לרמות אנרגיה מקוונטטות בבור ...   \n",
       "3               3   iw                          בניית תא שיט בתעלה ב-1906   \n",
       "4               4   iw  משמאל מאונט הופ, אתר המצבור הסופי של קבוצת ים רוס   \n",
       "...           ...  ...                                                ...   \n",
       "14653       14653   hu  Nagy sonkakagyló a máltai Vilhena Palace-hoz t...   \n",
       "14654       14654   hu  Iwobi (jobbra) az Arsenal U21-es csapatában 20...   \n",
       "14655       14655   hu     A meteorkráter és környéke panorámafelvételen.   \n",
       "14656       14656   hu  Az Omega  tagjai 1970-ben, Molnár György, Mihá...   \n",
       "14657       14657   hu                                      Brigham Young   \n",
       "\n",
       "                                             gen_caption  \n",
       "0                 דגל עם דגל רוסי על רקע ירוק, לבן ושחור  \n",
       "1                              גבר עם כובע ירוק עם קסדה.  \n",
       "2      תיאור גרפי של תיאור גרפי של תיאור גרפי של תיאו...  \n",
       "3                           צילום בשחור-לבן של רכבת מים.  \n",
       "4                        גבר עם סקי על רקע של אזור סגור.  \n",
       "...                                                  ...  \n",
       "14653                        Egy kék tálban egy nagy kő.  \n",
       "14654    Egy csapat férfi játszik egy labdarúgó meccsen.  \n",
       "14655  Egy hatalmas vulkán, amely egy hegyi vidéket á...  \n",
       "14656                Egy csoport férfi áll egy szobában.  \n",
       "14657  Egy férfi fekete-fehér fotója, aki egy ruhát v...  \n",
       "\n",
       "[14658 rows x 4 columns]"
      ]
     },
     "execution_count": 5,
     "metadata": {},
     "output_type": "execute_result"
    }
   ],
   "source": [
    "df_simple = pd.read_csv(files[0], sep='\\t')\n",
    "df_simple"
   ]
  },
  {
   "cell_type": "code",
   "execution_count": 6,
   "id": "464bd0b0-4aa3-46bf-85e5-62d32f2820a5",
   "metadata": {},
   "outputs": [
    {
     "data": {
      "text/html": [
       "<div>\n",
       "<style scoped>\n",
       "    .dataframe tbody tr th:only-of-type {\n",
       "        vertical-align: middle;\n",
       "    }\n",
       "\n",
       "    .dataframe tbody tr th {\n",
       "        vertical-align: top;\n",
       "    }\n",
       "\n",
       "    .dataframe thead th {\n",
       "        text-align: right;\n",
       "    }\n",
       "</style>\n",
       "<table border=\"1\" class=\"dataframe\">\n",
       "  <thead>\n",
       "    <tr style=\"text-align: right;\">\n",
       "      <th></th>\n",
       "      <th>Unnamed: 0</th>\n",
       "      <th>lang</th>\n",
       "      <th>ref_caption</th>\n",
       "      <th>gen_caption</th>\n",
       "    </tr>\n",
       "  </thead>\n",
       "  <tbody>\n",
       "    <tr>\n",
       "      <th>0</th>\n",
       "      <td>0</td>\n",
       "      <td>iw</td>\n",
       "      <td>דגל הצבא</td>\n",
       "      <td>חיל הים של סלובניה</td>\n",
       "    </tr>\n",
       "    <tr>\n",
       "      <th>1</th>\n",
       "      <td>1</td>\n",
       "      <td>iw</td>\n",
       "      <td>וושינגטון בגיל ארבעים, 1772</td>\n",
       "      <td>ג'ורג' וושינגטון</td>\n",
       "    </tr>\n",
       "    <tr>\n",
       "      <th>2</th>\n",
       "      <td>2</td>\n",
       "      <td>iw</td>\n",
       "      <td>שורשים של המשוואה לרמות אנרגיה מקוונטטות בבור ...</td>\n",
       "      <td>תיאור גרפי של תיאור גרפי של תיאור גרפי של תיאו...</td>\n",
       "    </tr>\n",
       "    <tr>\n",
       "      <th>3</th>\n",
       "      <td>3</td>\n",
       "      <td>iw</td>\n",
       "      <td>בניית תא שיט בתעלה ב-1906</td>\n",
       "      <td>פארק לאומי אוורגליידס</td>\n",
       "    </tr>\n",
       "    <tr>\n",
       "      <th>4</th>\n",
       "      <td>4</td>\n",
       "      <td>iw</td>\n",
       "      <td>משמאל מאונט הופ, אתר המצבור הסופי של קבוצת ים רוס</td>\n",
       "      <td>קבוצת ים רוס</td>\n",
       "    </tr>\n",
       "    <tr>\n",
       "      <th>...</th>\n",
       "      <td>...</td>\n",
       "      <td>...</td>\n",
       "      <td>...</td>\n",
       "      <td>...</td>\n",
       "    </tr>\n",
       "    <tr>\n",
       "      <th>15019</th>\n",
       "      <td>15019</td>\n",
       "      <td>hu</td>\n",
       "      <td>Nagy sonkakagyló a máltai Vilhena Palace-hoz t...</td>\n",
       "      <td>A nagy sonkagyló a trópusi óceánban él, és a t...</td>\n",
       "    </tr>\n",
       "    <tr>\n",
       "      <th>15020</th>\n",
       "      <td>15020</td>\n",
       "      <td>hu</td>\n",
       "      <td>Iwobi (jobbra) az Arsenal U21-es csapatában 20...</td>\n",
       "      <td>A családja az amerikai futballcsapat.</td>\n",
       "    </tr>\n",
       "    <tr>\n",
       "      <th>15021</th>\n",
       "      <td>15021</td>\n",
       "      <td>hu</td>\n",
       "      <td>A meteorkráter és környéke panorámafelvételen.</td>\n",
       "      <td>A Barringer-kráter egy hatalmas kráter, amely ...</td>\n",
       "    </tr>\n",
       "    <tr>\n",
       "      <th>15022</th>\n",
       "      <td>15022</td>\n",
       "      <td>hu</td>\n",
       "      <td>Az Omega  tagjai 1970-ben, Molnár György, Mihá...</td>\n",
       "      <td>A zenekar a Beatkorszak II-ben.</td>\n",
       "    </tr>\n",
       "    <tr>\n",
       "      <th>15023</th>\n",
       "      <td>15023</td>\n",
       "      <td>hu</td>\n",
       "      <td>Brigham Young</td>\n",
       "      <td>Egy régi fotó egy férfiról, aki egy ruhát visel.</td>\n",
       "    </tr>\n",
       "  </tbody>\n",
       "</table>\n",
       "<p>15024 rows × 4 columns</p>\n",
       "</div>"
      ],
      "text/plain": [
       "       Unnamed: 0 lang                                        ref_caption   \n",
       "0               0   iw                                           דגל הצבא  \\\n",
       "1               1   iw                        וושינגטון בגיל ארבעים, 1772   \n",
       "2               2   iw  שורשים של המשוואה לרמות אנרגיה מקוונטטות בבור ...   \n",
       "3               3   iw                          בניית תא שיט בתעלה ב-1906   \n",
       "4               4   iw  משמאל מאונט הופ, אתר המצבור הסופי של קבוצת ים רוס   \n",
       "...           ...  ...                                                ...   \n",
       "15019       15019   hu  Nagy sonkakagyló a máltai Vilhena Palace-hoz t...   \n",
       "15020       15020   hu  Iwobi (jobbra) az Arsenal U21-es csapatában 20...   \n",
       "15021       15021   hu     A meteorkráter és környéke panorámafelvételen.   \n",
       "15022       15022   hu  Az Omega  tagjai 1970-ben, Molnár György, Mihá...   \n",
       "15023       15023   hu                                      Brigham Young   \n",
       "\n",
       "                                             gen_caption  \n",
       "0                                     חיל הים של סלובניה  \n",
       "1                                       ג'ורג' וושינגטון  \n",
       "2      תיאור גרפי של תיאור גרפי של תיאור גרפי של תיאו...  \n",
       "3                                  פארק לאומי אוורגליידס  \n",
       "4                                           קבוצת ים רוס  \n",
       "...                                                  ...  \n",
       "15019  A nagy sonkagyló a trópusi óceánban él, és a t...  \n",
       "15020              A családja az amerikai futballcsapat.  \n",
       "15021  A Barringer-kráter egy hatalmas kráter, amely ...  \n",
       "15022                    A zenekar a Beatkorszak II-ben.  \n",
       "15023   Egy régi fotó egy férfiról, aki egy ruhát visel.  \n",
       "\n",
       "[15024 rows x 4 columns]"
      ]
     },
     "execution_count": 6,
     "metadata": {},
     "output_type": "execute_result"
    }
   ],
   "source": [
    "df_context = pd.read_csv(files[1], sep='\\t')\n",
    "df_context"
   ]
  },
  {
   "cell_type": "code",
   "execution_count": 7,
   "id": "d617cb58-96c6-40d1-a352-53c605fe33b0",
   "metadata": {},
   "outputs": [
    {
     "data": {
      "text/html": [
       "<div>\n",
       "<style scoped>\n",
       "    .dataframe tbody tr th:only-of-type {\n",
       "        vertical-align: middle;\n",
       "    }\n",
       "\n",
       "    .dataframe tbody tr th {\n",
       "        vertical-align: top;\n",
       "    }\n",
       "\n",
       "    .dataframe thead th {\n",
       "        text-align: right;\n",
       "    }\n",
       "</style>\n",
       "<table border=\"1\" class=\"dataframe\">\n",
       "  <thead>\n",
       "    <tr style=\"text-align: right;\">\n",
       "      <th></th>\n",
       "      <th>Unnamed: 0</th>\n",
       "      <th>lang</th>\n",
       "      <th>ref_caption</th>\n",
       "      <th>gen_caption</th>\n",
       "    </tr>\n",
       "  </thead>\n",
       "  <tbody>\n",
       "    <tr>\n",
       "      <th>0</th>\n",
       "      <td>0</td>\n",
       "      <td>iw</td>\n",
       "      <td>דגל הצבא</td>\n",
       "      <td>דגל סלובניה עם דגל סלובניה</td>\n",
       "    </tr>\n",
       "    <tr>\n",
       "      <th>1</th>\n",
       "      <td>1</td>\n",
       "      <td>iw</td>\n",
       "      <td>וושינגטון בגיל ארבעים, 1772</td>\n",
       "      <td>ג'ורג' וושינגטון, כותרת מקטע: בין המלחמות: מאו...</td>\n",
       "    </tr>\n",
       "    <tr>\n",
       "      <th>2</th>\n",
       "      <td>2</td>\n",
       "      <td>iw</td>\n",
       "      <td>שורשים של המשוואה לרמות אנרגיה מקוונטטות בבור ...</td>\n",
       "      <td>תיאור גרפי של תיאור גרפי של תיאור גרפי של תיאו...</td>\n",
       "    </tr>\n",
       "    <tr>\n",
       "      <th>3</th>\n",
       "      <td>3</td>\n",
       "      <td>iw</td>\n",
       "      <td>בניית תא שיט בתעלה ב-1906</td>\n",
       "      <td>פארק אוורגליידס, כותרת מקטע: פיתוח הקרקע ושימורה</td>\n",
       "    </tr>\n",
       "    <tr>\n",
       "      <th>4</th>\n",
       "      <td>4</td>\n",
       "      <td>iw</td>\n",
       "      <td>משמאל מאונט הופ, אתר המצבור הסופי של קבוצת ים רוס</td>\n",
       "      <td>קבוצת ים רוס, כותרת מקטע: מסע להר התקווה (מאונ...</td>\n",
       "    </tr>\n",
       "    <tr>\n",
       "      <th>...</th>\n",
       "      <td>...</td>\n",
       "      <td>...</td>\n",
       "      <td>...</td>\n",
       "      <td>...</td>\n",
       "    </tr>\n",
       "    <tr>\n",
       "      <th>15020</th>\n",
       "      <td>15020</td>\n",
       "      <td>hu</td>\n",
       "      <td>Nagy sonkakagyló a máltai Vilhena Palace-hoz t...</td>\n",
       "      <td>A nagy sonkagyló életmódja és szaporodása a sz...</td>\n",
       "    </tr>\n",
       "    <tr>\n",
       "      <th>15021</th>\n",
       "      <td>15021</td>\n",
       "      <td>hu</td>\n",
       "      <td>Iwobi (jobbra) az Arsenal U21-es csapatában 20...</td>\n",
       "      <td>Alex Iwobi, a családja</td>\n",
       "    </tr>\n",
       "    <tr>\n",
       "      <th>15022</th>\n",
       "      <td>15022</td>\n",
       "      <td>hu</td>\n",
       "      <td>A meteorkráter és környéke panorámafelvételen.</td>\n",
       "      <td>A Barringer-kráter a Barringer-kráter a Barrin...</td>\n",
       "    </tr>\n",
       "    <tr>\n",
       "      <th>15023</th>\n",
       "      <td>15023</td>\n",
       "      <td>hu</td>\n",
       "      <td>Az Omega  tagjai 1970-ben, Molnár György, Mihá...</td>\n",
       "      <td>A kép címe: Omega (együttes), szakaszcím: Beat...</td>\n",
       "    </tr>\n",
       "    <tr>\n",
       "      <th>15024</th>\n",
       "      <td>15024</td>\n",
       "      <td>hu</td>\n",
       "      <td>Brigham Young</td>\n",
       "      <td>A kép aláírása: Utódlás az elnökségben</td>\n",
       "    </tr>\n",
       "  </tbody>\n",
       "</table>\n",
       "<p>15025 rows × 4 columns</p>\n",
       "</div>"
      ],
      "text/plain": [
       "       Unnamed: 0 lang                                        ref_caption   \n",
       "0               0   iw                                           דגל הצבא  \\\n",
       "1               1   iw                        וושינגטון בגיל ארבעים, 1772   \n",
       "2               2   iw  שורשים של המשוואה לרמות אנרגיה מקוונטטות בבור ...   \n",
       "3               3   iw                          בניית תא שיט בתעלה ב-1906   \n",
       "4               4   iw  משמאל מאונט הופ, אתר המצבור הסופי של קבוצת ים רוס   \n",
       "...           ...  ...                                                ...   \n",
       "15020       15020   hu  Nagy sonkakagyló a máltai Vilhena Palace-hoz t...   \n",
       "15021       15021   hu  Iwobi (jobbra) az Arsenal U21-es csapatában 20...   \n",
       "15022       15022   hu     A meteorkráter és környéke panorámafelvételen.   \n",
       "15023       15023   hu  Az Omega  tagjai 1970-ben, Molnár György, Mihá...   \n",
       "15024       15024   hu                                      Brigham Young   \n",
       "\n",
       "                                             gen_caption  \n",
       "0                             דגל סלובניה עם דגל סלובניה  \n",
       "1      ג'ורג' וושינגטון, כותרת מקטע: בין המלחמות: מאו...  \n",
       "2      תיאור גרפי של תיאור גרפי של תיאור גרפי של תיאו...  \n",
       "3       פארק אוורגליידס, כותרת מקטע: פיתוח הקרקע ושימורה  \n",
       "4      קבוצת ים רוס, כותרת מקטע: מסע להר התקווה (מאונ...  \n",
       "...                                                  ...  \n",
       "15020  A nagy sonkagyló életmódja és szaporodása a sz...  \n",
       "15021                             Alex Iwobi, a családja  \n",
       "15022  A Barringer-kráter a Barringer-kráter a Barrin...  \n",
       "15023  A kép címe: Omega (együttes), szakaszcím: Beat...  \n",
       "15024             A kép aláírása: Utódlás az elnökségben  \n",
       "\n",
       "[15025 rows x 4 columns]"
      ]
     },
     "execution_count": 7,
     "metadata": {},
     "output_type": "execute_result"
    }
   ],
   "source": [
    "df_context_transl = pd.read_csv(files[2], sep='\\t')\n",
    "df_context_transl"
   ]
  },
  {
   "cell_type": "markdown",
   "id": "c5aef764-4147-48ba-9212-a96e61148c67",
   "metadata": {},
   "source": [
    "# Calculate percentage of NER in original (reference) captions"
   ]
  },
  {
   "cell_type": "code",
   "execution_count": 8,
   "id": "382ee089-5d4a-44da-a4d3-bd4ad7f12d70",
   "metadata": {},
   "outputs": [],
   "source": [
    "def retrieve_tokens_and_ents(df, caption, langs, nlp_model):\n",
    "    tokens_by_lang, ents_by_lang = {}, {}\n",
    "\n",
    "    for lang in langs:\n",
    "        tokens, ents = 0, 0\n",
    "        ref_caps = df[df['lang'] == lang][caption].values\n",
    "        for ref_cap in ref_caps:\n",
    "            doc = nlp_model(ref_cap)\n",
    "            tokens += len(doc)\n",
    "            ents += len(doc.ents)\n",
    "        tokens_by_lang[lang] = tokens\n",
    "        ents_by_lang[lang] = ents\n",
    "    return tokens_by_lang, ents_by_lang"
   ]
  },
  {
   "cell_type": "code",
   "execution_count": 9,
   "id": "5fbf102c-b586-4fe9-9658-272a35bbda06",
   "metadata": {},
   "outputs": [
    {
     "name": "stdout",
     "output_type": "stream",
     "text": [
      "{'ca': 8818, 'de': 6195, 'en': 9698, 'es': 9398, 'fr': 9010, 'it': 8086, 'ja': 1537, 'nl': 6807, 'pl': 6557, 'pt': 9300, 'ru': 7725, 'sv': 7827, 'uk': 6721, 'zh-TW': 1428} {'ca': 1139, 'de': 994, 'en': 1404, 'es': 1228, 'fr': 1107, 'it': 1191, 'ja': 293, 'nl': 1017, 'pl': 1126, 'pt': 1241, 'ru': 1057, 'sv': 1187, 'uk': 976, 'zh-TW': 310}\n"
     ]
    }
   ],
   "source": [
    "tokens, ents = retrieve_tokens_and_ents(df_simple, 'ref_caption', langs, nlp)\n",
    "print(tokens, ents)"
   ]
  },
  {
   "cell_type": "code",
   "execution_count": 10,
   "id": "0b48d73b-ba15-40a5-89e3-212de6f9e027",
   "metadata": {},
   "outputs": [
    {
     "name": "stdout",
     "output_type": "stream",
     "text": [
      "{'ca': '12.92%', 'de': '16.05%', 'en': '14.48%', 'es': '13.07%', 'fr': '12.29%', 'it': '14.73%', 'ja': '19.06%', 'nl': '14.94%', 'pl': '17.17%', 'pt': '13.34%', 'ru': '13.68%', 'sv': '15.17%', 'uk': '14.52%', 'zh-TW': '21.71%'}\n"
     ]
    }
   ],
   "source": [
    "ents_to_tokens_ratio = {}\n",
    "for lang in tokens:\n",
    "    ents_to_tokens_ratio[lang] = str(round(ents[lang] / tokens[lang] * 100, 2))+'%'\n",
    "print(ents_to_tokens_ratio)"
   ]
  },
  {
   "cell_type": "markdown",
   "id": "05d889db-b48e-4601-85a7-9433a2a914ed",
   "metadata": {},
   "source": [
    "# Calculate percentage of NER in generated captions"
   ]
  },
  {
   "cell_type": "markdown",
   "id": "058971dc-3a9c-41d3-94b7-0f6083d28c1d",
   "metadata": {},
   "source": [
    "## Simple model"
   ]
  },
  {
   "cell_type": "code",
   "execution_count": 11,
   "id": "4b331a5a-2881-4307-8a76-8b4d6b3e6799",
   "metadata": {},
   "outputs": [
    {
     "name": "stdout",
     "output_type": "stream",
     "text": [
      "{'ca': 8365, 'de': 7217, 'en': 8475, 'es': 8717, 'fr': 8266, 'it': 8742, 'ja': 1465, 'nl': 7647, 'pl': 5640, 'pt': 5800, 'ru': 6207, 'sv': 7265, 'uk': 5992, 'zh-TW': 1315} {'ca': 69, 'de': 57, 'en': 101, 'es': 43, 'fr': 55, 'it': 37, 'ja': 254, 'nl': 35, 'pl': 118, 'pt': 317, 'ru': 63, 'sv': 250, 'uk': 59, 'zh-TW': 408}\n"
     ]
    }
   ],
   "source": [
    "tokens_simple, ents_simple = retrieve_tokens_and_ents(df_simple, 'gen_caption', langs, nlp)\n",
    "print(tokens_simple, ents_simple)"
   ]
  },
  {
   "cell_type": "code",
   "execution_count": 13,
   "id": "d603c713-cd80-440d-a780-4cbe74ec037c",
   "metadata": {},
   "outputs": [
    {
     "name": "stdout",
     "output_type": "stream",
     "text": [
      "{'ca': '0.82%', 'de': '0.79%', 'en': '1.19%', 'es': '0.49%', 'fr': '0.67%', 'it': '0.42%', 'ja': '17.34%', 'nl': '0.46%', 'pl': '2.09%', 'pt': '5.47%', 'ru': '1.01%', 'sv': '3.44%', 'uk': '0.98%', 'zh-TW': '31.03%'}\n"
     ]
    }
   ],
   "source": [
    "simple_ents_to_tokens_ratio = {}\n",
    "for lang in langs:\n",
    "    simple_ents_to_tokens_ratio[lang] = str(round(ents_simple[lang] / tokens_simple[lang] * 100, 2))+'%'\n",
    "print(simple_ents_to_tokens_ratio)"
   ]
  },
  {
   "cell_type": "code",
   "execution_count": 14,
   "id": "48f9c687-1b00-4163-a956-05a397d386b7",
   "metadata": {},
   "outputs": [
    {
     "name": "stdout",
     "output_type": "stream",
     "text": [
      "   Before After_simple\n",
      "ca 12.92% 0.82%\n",
      "de 16.05% 0.79%\n",
      "en 14.48% 1.19%\n",
      "es 13.07% 0.49%\n",
      "fr 12.29% 0.67%\n",
      "it 14.73% 0.42%\n",
      "ja 19.06% 17.34%\n",
      "nl 14.94% 0.46%\n",
      "pl 17.17% 2.09%\n",
      "pt 13.34% 5.47%\n",
      "ru 13.68% 1.01%\n",
      "sv 15.17% 3.44%\n",
      "uk 14.52% 0.98%\n",
      "zh-TW 21.71% 31.03%\n"
     ]
    }
   ],
   "source": [
    "print('   Before After_simple')\n",
    "for lang in langs:\n",
    "    print(f'{lang} {ents_to_tokens_ratio[lang]} {simple_ents_to_tokens_ratio[lang]}')"
   ]
  },
  {
   "cell_type": "markdown",
   "id": "f90b3c4e-5d27-46a4-bb9a-6332dfb4078e",
   "metadata": {},
   "source": [
    "## Context model"
   ]
  },
  {
   "cell_type": "code",
   "execution_count": 15,
   "id": "b3f42931-a505-4989-9641-1295e14c3f16",
   "metadata": {},
   "outputs": [
    {
     "name": "stdout",
     "output_type": "stream",
     "text": [
      "{'ca': 7312, 'de': 6802, 'en': 6341, 'es': 4150, 'fr': 7979, 'it': 7267, 'ja': 1006, 'nl': 7665, 'pl': 3992, 'pt': 5954, 'ru': 2177, 'sv': 7271, 'uk': 5539, 'zh-TW': 1436} {'ca': 353, 'de': 377, 'en': 326, 'es': 340, 'fr': 271, 'it': 369, 'ja': 213, 'nl': 268, 'pl': 371, 'pt': 299, 'ru': 290, 'sv': 419, 'uk': 408, 'zh-TW': 422}\n"
     ]
    }
   ],
   "source": [
    "tokens_context, ents_context = retrieve_tokens_and_ents(df_context, 'gen_caption', langs, nlp)\n",
    "print(tokens_context, ents_context)"
   ]
  },
  {
   "cell_type": "code",
   "execution_count": 16,
   "id": "3e82b79c-ed7c-487c-865d-132e0f6eeb93",
   "metadata": {},
   "outputs": [
    {
     "name": "stdout",
     "output_type": "stream",
     "text": [
      "{'ca': '4.83%', 'de': '5.54%', 'en': '5.14%', 'es': '8.19%', 'fr': '3.4%', 'it': '5.08%', 'ja': '21.17%', 'nl': '3.5%', 'pl': '9.29%', 'pt': '5.02%', 'ru': '13.32%', 'sv': '5.76%', 'uk': '7.37%', 'zh-TW': '29.39%'}\n"
     ]
    }
   ],
   "source": [
    "context_ents_to_tokens_ratio = {}\n",
    "for lang in langs:\n",
    "    context_ents_to_tokens_ratio[lang] = str(round(ents_context[lang] / tokens_context[lang] * 100, 2))+'%'\n",
    "print(context_ents_to_tokens_ratio)"
   ]
  },
  {
   "cell_type": "code",
   "execution_count": 17,
   "id": "6b2dd1ab-38ce-413d-9c5d-8c633357a70d",
   "metadata": {},
   "outputs": [
    {
     "name": "stdout",
     "output_type": "stream",
     "text": [
      "   Before After_context\n",
      "ca 12.92% 4.83%\n",
      "de 16.05% 5.54%\n",
      "en 14.48% 5.14%\n",
      "es 13.07% 8.19%\n",
      "fr 12.29% 3.4%\n",
      "it 14.73% 5.08%\n",
      "ja 19.06% 21.17%\n",
      "nl 14.94% 3.5%\n",
      "pl 17.17% 9.29%\n",
      "pt 13.34% 5.02%\n",
      "ru 13.68% 13.32%\n",
      "sv 15.17% 5.76%\n",
      "uk 14.52% 7.37%\n",
      "zh-TW 21.71% 29.39%\n"
     ]
    }
   ],
   "source": [
    "print('   Before After_context')\n",
    "for lang in langs:\n",
    "    print(f'{lang} {ents_to_tokens_ratio[lang]} {context_ents_to_tokens_ratio[lang]}')"
   ]
  },
  {
   "cell_type": "markdown",
   "id": "b6de8d66-2d85-442b-93e6-e927fe1dc99d",
   "metadata": {},
   "source": [
    "## Translated context model"
   ]
  },
  {
   "cell_type": "code",
   "execution_count": 19,
   "id": "91ee5bb8-6ad7-41b8-b339-e93752ce95cc",
   "metadata": {},
   "outputs": [
    {
     "name": "stdout",
     "output_type": "stream",
     "text": [
      "{'ca': 8569, 'de': 6976, 'en': 7031, 'es': 7459, 'fr': 4828, 'it': 6643, 'ja': 2781, 'nl': 8314, 'pl': 5903, 'pt': 9033, 'ru': 3879, 'sv': 6982, 'uk': 5519, 'zh-TW': 1693} {'ca': 774, 'de': 691, 'en': 412, 'es': 702, 'fr': 541, 'it': 615, 'ja': 403, 'nl': 507, 'pl': 707, 'pt': 649, 'ru': 522, 'sv': 745, 'uk': 988, 'zh-TW': 451}\n"
     ]
    }
   ],
   "source": [
    "tokens_transl, ents_transl = retrieve_tokens_and_ents(df_context_transl, 'gen_caption', langs, nlp)\n",
    "print(tokens_transl, ents_transl)"
   ]
  },
  {
   "cell_type": "code",
   "execution_count": 20,
   "id": "6ac12765-e089-4168-b128-4509834816de",
   "metadata": {},
   "outputs": [
    {
     "name": "stdout",
     "output_type": "stream",
     "text": [
      "{'ca': '9.03%', 'de': '9.91%', 'en': '5.86%', 'es': '9.41%', 'fr': '11.21%', 'it': '9.26%', 'ja': '14.49%', 'nl': '6.1%', 'pl': '11.98%', 'pt': '7.18%', 'ru': '13.46%', 'sv': '10.67%', 'uk': '17.9%', 'zh-TW': '26.64%'}\n"
     ]
    }
   ],
   "source": [
    "transl_ents_to_tokens_ratio = {}\n",
    "for lang in langs:\n",
    "    transl_ents_to_tokens_ratio[lang] = str(round(ents_transl[lang] / tokens_transl[lang] * 100, 2))+'%'\n",
    "print(transl_ents_to_tokens_ratio)"
   ]
  },
  {
   "cell_type": "code",
   "execution_count": 21,
   "id": "a797d33a-60db-4cc1-8c4d-1e72f23dc163",
   "metadata": {},
   "outputs": [
    {
     "name": "stdout",
     "output_type": "stream",
     "text": [
      "   Before After_transl\n",
      "ca 12.92% 9.03%\n",
      "de 16.05% 9.91%\n",
      "en 14.48% 5.86%\n",
      "es 13.07% 9.41%\n",
      "fr 12.29% 11.21%\n",
      "it 14.73% 9.26%\n",
      "ja 19.06% 14.49%\n",
      "nl 14.94% 6.1%\n",
      "pl 17.17% 11.98%\n",
      "pt 13.34% 7.18%\n",
      "ru 13.68% 13.46%\n",
      "sv 15.17% 10.67%\n",
      "uk 14.52% 17.9%\n",
      "zh-TW 21.71% 26.64%\n"
     ]
    }
   ],
   "source": [
    "print('   Before After_transl')\n",
    "for lang in langs:\n",
    "    print(f'{lang} {ents_to_tokens_ratio[lang]} {transl_ents_to_tokens_ratio[lang]}')"
   ]
  },
  {
   "cell_type": "markdown",
   "id": "b3e605af-7ed0-45ff-914a-217e978232ee",
   "metadata": {},
   "source": [
    "## Results in one output"
   ]
  },
  {
   "cell_type": "code",
   "execution_count": 22,
   "id": "dff117b9-b5ae-4ee7-a2f1-0d41d01e28f5",
   "metadata": {},
   "outputs": [
    {
     "name": "stdout",
     "output_type": "stream",
     "text": [
      "   Before After_simple After_context After_transl\n",
      "ca 12.92% 0.82%       4.83%        9.03%\n",
      "de 16.05% 0.79%       5.54%        9.91%\n",
      "en 14.48% 1.19%       5.14%        5.86%\n",
      "es 13.07% 0.49%       8.19%        9.41%\n",
      "fr 12.29% 0.67%       3.4%        11.21%\n",
      "it 14.73% 0.42%       5.08%        9.26%\n",
      "ja 19.06% 17.34%       21.17%        14.49%\n",
      "nl 14.94% 0.46%       3.5%        6.1%\n",
      "pl 17.17% 2.09%       9.29%        11.98%\n",
      "pt 13.34% 5.47%       5.02%        7.18%\n",
      "ru 13.68% 1.01%       13.32%        13.46%\n",
      "sv 15.17% 3.44%       5.76%        10.67%\n",
      "uk 14.52% 0.98%       7.37%        17.9%\n",
      "zh-TW 21.71% 31.03%       29.39%        26.64%\n"
     ]
    }
   ],
   "source": [
    "print('   Before After_simple After_context After_transl')\n",
    "for lang in langs:\n",
    "    print(f'{lang} {ents_to_tokens_ratio[lang]} {simple_ents_to_tokens_ratio[lang]}       {context_ents_to_tokens_ratio[lang]}        {transl_ents_to_tokens_ratio[lang]}')"
   ]
  },
  {
   "cell_type": "markdown",
   "id": "c2ed06ae-f618-433c-bbe8-4094f0e44c55",
   "metadata": {},
   "source": [
    "# Check Japanese and Chinese NER on separate models"
   ]
  },
  {
   "cell_type": "markdown",
   "id": "5c4f969e-c9c6-4b07-a572-95bd871b62fe",
   "metadata": {},
   "source": [
    "## Japanese"
   ]
  },
  {
   "cell_type": "code",
   "execution_count": 23,
   "id": "158c9cd0-e612-4222-a81b-31d88440c42b",
   "metadata": {},
   "outputs": [],
   "source": [
    "nlp_jp = spacy.load('ja_core_news_lg')"
   ]
  },
  {
   "cell_type": "code",
   "execution_count": 24,
   "id": "b6a94c08-5aad-41d8-99db-71ba866ab84e",
   "metadata": {},
   "outputs": [
    {
     "name": "stdout",
     "output_type": "stream",
     "text": [
      "{'ja': 8606} {'ja': 1177}\n"
     ]
    }
   ],
   "source": [
    "tokens_jp, ents_jp = retrieve_tokens_and_ents(df_simple, 'ref_caption', ['ja'], nlp_jp)\n",
    "print(tokens_jp, ents_jp)"
   ]
  },
  {
   "cell_type": "code",
   "execution_count": 25,
   "id": "2173535c-c93c-4352-ad39-bd966d2d5870",
   "metadata": {},
   "outputs": [
    {
     "name": "stdout",
     "output_type": "stream",
     "text": [
      "13.68%\n"
     ]
    }
   ],
   "source": [
    "ents_to_tokens_ratio_jp = str(round(ents_jp['ja'] / tokens_jp['ja'] * 100, 2))+'%'\n",
    "print(ents_to_tokens_ratio_jp)"
   ]
  },
  {
   "cell_type": "code",
   "execution_count": 27,
   "id": "78b08d55-9694-4252-92d0-1ae2cc58848c",
   "metadata": {},
   "outputs": [
    {
     "name": "stdout",
     "output_type": "stream",
     "text": [
      "{'ja': 7276} {'ja': 177}\n"
     ]
    }
   ],
   "source": [
    "tokens_jp_simple, ents_jp_simple = retrieve_tokens_and_ents(df_simple, 'gen_caption', ['ja'], nlp_jp)\n",
    "print(tokens_jp_simple, ents_jp_simple)"
   ]
  },
  {
   "cell_type": "code",
   "execution_count": 28,
   "id": "0d0af87d-6ee0-409c-90a6-c47ea1d30ec7",
   "metadata": {},
   "outputs": [
    {
     "name": "stdout",
     "output_type": "stream",
     "text": [
      "2.43%\n"
     ]
    }
   ],
   "source": [
    "simple_ents_to_tokens_ratio_jp = str(round(ents_jp_simple['ja'] / tokens_jp_simple['ja'] * 100, 2))+'%'\n",
    "print(simple_ents_to_tokens_ratio_jp)"
   ]
  },
  {
   "cell_type": "code",
   "execution_count": 29,
   "id": "6265f119-145c-45dc-a5a8-018776385922",
   "metadata": {},
   "outputs": [
    {
     "name": "stdout",
     "output_type": "stream",
     "text": [
      "{'ja': 2484} {'ja': 385}\n"
     ]
    }
   ],
   "source": [
    "tokens_jp_context, ents_jp_context = retrieve_tokens_and_ents(df_context, 'gen_caption', ['ja'], nlp_jp)\n",
    "print(tokens_jp_context, ents_jp_context)"
   ]
  },
  {
   "cell_type": "code",
   "execution_count": 30,
   "id": "d0c514c7-0687-4c9a-9847-75d4601fcdee",
   "metadata": {},
   "outputs": [
    {
     "name": "stdout",
     "output_type": "stream",
     "text": [
      "15.5%\n"
     ]
    }
   ],
   "source": [
    "context_ents_to_tokens_ratio_jp = str(round(ents_jp_context['ja'] / tokens_jp_context['ja'] * 100, 2))+'%'\n",
    "print(context_ents_to_tokens_ratio_jp)"
   ]
  },
  {
   "cell_type": "code",
   "execution_count": 32,
   "id": "871f4580-3219-43a6-baf6-57f600d4ff89",
   "metadata": {},
   "outputs": [
    {
     "name": "stdout",
     "output_type": "stream",
     "text": [
      "{'ja': 7604} {'ja': 771}\n"
     ]
    }
   ],
   "source": [
    "tokens_jp_transl, ents_jp_transl = retrieve_tokens_and_ents(df_context_transl, 'gen_caption', ['ja'], nlp_jp)\n",
    "print(tokens_jp_transl, ents_jp_transl)"
   ]
  },
  {
   "cell_type": "code",
   "execution_count": 33,
   "id": "b897948e-5442-4004-b006-b0537fc5a374",
   "metadata": {},
   "outputs": [
    {
     "name": "stdout",
     "output_type": "stream",
     "text": [
      "10.14%\n"
     ]
    }
   ],
   "source": [
    "transl_ents_to_tokens_ratio_jp = str(round(ents_jp_transl['ja'] / tokens_jp_transl['ja'] * 100, 2))+'%'\n",
    "print(transl_ents_to_tokens_ratio_jp)"
   ]
  },
  {
   "cell_type": "markdown",
   "id": "d4bf8563-c451-4f84-8b1e-55c9ea14bc37",
   "metadata": {},
   "source": [
    "### Chinese"
   ]
  },
  {
   "cell_type": "code",
   "execution_count": 34,
   "id": "e36112bc-b758-4c12-9a89-7f09df2c3efa",
   "metadata": {},
   "outputs": [],
   "source": [
    "nlp_zh = spacy.load('zh_core_web_lg')"
   ]
  },
  {
   "cell_type": "code",
   "execution_count": 35,
   "id": "1a9a5e8d-d9f7-446a-a1d2-0c6e292f34be",
   "metadata": {},
   "outputs": [
    {
     "name": "stdout",
     "output_type": "stream",
     "text": [
      "{'zh-TW': 6949} {'zh-TW': 1288}\n"
     ]
    }
   ],
   "source": [
    "tokens_zh, ents_zh = retrieve_tokens_and_ents(df_simple, 'ref_caption', ['zh-TW'], nlp_zh)\n",
    "print(tokens_zh, ents_zh)"
   ]
  },
  {
   "cell_type": "code",
   "execution_count": 36,
   "id": "30320edf-7077-4b1b-b543-4862f186d265",
   "metadata": {},
   "outputs": [
    {
     "name": "stdout",
     "output_type": "stream",
     "text": [
      "18.54%\n"
     ]
    }
   ],
   "source": [
    "ents_to_tokens_ratio_zh = str(round(ents_zh['zh-TW'] / tokens_zh['zh-TW'] * 100, 2))+'%'\n",
    "print(ents_to_tokens_ratio_zh)"
   ]
  },
  {
   "cell_type": "code",
   "execution_count": 37,
   "id": "1866c707-0285-4fe0-9bd7-fe4f58b537a9",
   "metadata": {},
   "outputs": [
    {
     "name": "stdout",
     "output_type": "stream",
     "text": [
      "{'zh-TW': 5215} {'zh-TW': 324}\n"
     ]
    }
   ],
   "source": [
    "tokens_zh_simple, ents_zh_simple = retrieve_tokens_and_ents(df_simple, 'gen_caption', ['zh-TW'], nlp_zh)\n",
    "print(tokens_zh_simple, ents_zh_simple)"
   ]
  },
  {
   "cell_type": "code",
   "execution_count": 39,
   "id": "07003922-1b69-4027-8e4f-d91da117e228",
   "metadata": {},
   "outputs": [
    {
     "name": "stdout",
     "output_type": "stream",
     "text": [
      "6.21%\n"
     ]
    }
   ],
   "source": [
    "simple_ents_to_tokens_ratio_zh = str(round(ents_zh_simple['zh-TW'] / tokens_zh_simple['zh-TW'] * 100, 2))+'%'\n",
    "print(simple_ents_to_tokens_ratio_zh)"
   ]
  },
  {
   "cell_type": "code",
   "execution_count": 40,
   "id": "7f7fcd1f-4e6e-4d30-8666-7ac1cad2d897",
   "metadata": {},
   "outputs": [
    {
     "name": "stdout",
     "output_type": "stream",
     "text": [
      "{'zh-TW': 5482} {'zh-TW': 700}\n"
     ]
    }
   ],
   "source": [
    "tokens_zh_context, ents_zh_context = retrieve_tokens_and_ents(df_context, 'gen_caption', ['zh-TW'], nlp_zh)\n",
    "print(tokens_zh_context, ents_zh_context)"
   ]
  },
  {
   "cell_type": "code",
   "execution_count": 42,
   "id": "dd83bf49-4b68-4685-9c17-abd861f2768e",
   "metadata": {},
   "outputs": [
    {
     "name": "stdout",
     "output_type": "stream",
     "text": [
      "12.77%\n"
     ]
    }
   ],
   "source": [
    "context_ents_to_tokens_ratio_zh = str(round(ents_zh_context['zh-TW'] / tokens_zh_context['zh-TW'] * 100, 2))+'%'\n",
    "print(context_ents_to_tokens_ratio_zh)"
   ]
  },
  {
   "cell_type": "code",
   "execution_count": 43,
   "id": "fe9758d0-835e-4cae-beee-dd6fd365129f",
   "metadata": {},
   "outputs": [
    {
     "name": "stdout",
     "output_type": "stream",
     "text": [
      "{'zh-TW': 6293} {'zh-TW': 674}\n"
     ]
    }
   ],
   "source": [
    "tokens_zh_transl, ents_zh_transl = retrieve_tokens_and_ents(df_context_transl, 'gen_caption', ['zh-TW'], nlp_zh)\n",
    "print(tokens_zh_transl, ents_zh_transl)"
   ]
  },
  {
   "cell_type": "code",
   "execution_count": 44,
   "id": "27c9bcae-ed96-40b5-82a3-1584aa58131a",
   "metadata": {},
   "outputs": [
    {
     "name": "stdout",
     "output_type": "stream",
     "text": [
      "10.71%\n"
     ]
    }
   ],
   "source": [
    "transl_ents_to_tokens_ratio_zh = str(round(ents_zh_transl['zh-TW'] / tokens_zh_transl['zh-TW'] * 100, 2))+'%'\n",
    "print(transl_ents_to_tokens_ratio_zh)"
   ]
  }
 ],
 "metadata": {
  "kernelspec": {
   "display_name": "Python 3 (ipykernel)",
   "language": "python",
   "name": "python3"
  },
  "language_info": {
   "codemirror_mode": {
    "name": "ipython",
    "version": 3
   },
   "file_extension": ".py",
   "mimetype": "text/x-python",
   "name": "python",
   "nbconvert_exporter": "python",
   "pygments_lexer": "ipython3",
   "version": "3.11.3"
  }
 },
 "nbformat": 4,
 "nbformat_minor": 5
}
